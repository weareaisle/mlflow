{
 "cells": [
  {
   "cell_type": "markdown",
   "metadata": {},
   "source": [
    "## Introduction to Sentence Transformers and MLflow\n",
    "\n",
    "Welcome to our tutorial on leveraging **Sentence Transformers** with **MLflow** for advanced natural language processing and model management.\n",
    "\n",
    "### Learning Objectives\n",
    "\n",
    "- Set up a pipeline for sentence embeddings with `sentence-transformers`.\n",
    "- Log models and configurations using MLflow.\n",
    "- Understand and apply model signatures in MLflow to `sentence-transformers`.\n",
    "- Deploy and use models for inference with MLflow's features.\n",
    "\n",
    "To learn more, expand the **details** sections throughout this tutorial.\n",
    "\n",
    "<details>\n",
    "    <div>\n",
    "        <h4>What are Sentence Transformers?</h4>\n",
    "        <p>Sentence Transformers, an extension of the Hugging Face Transformers library, are designed for generating semantically rich sentence embeddings. They utilize models like BERT and RoBERTa, fine-tuned for tasks such as semantic search and text clustering, producing high-quality sentence-level embeddings.</p>\n",
    "    </div>\n",
    "    <div>\n",
    "        <h4>Benefits of Integrating MLflow with Sentence Transformers</h4>\n",
    "        <p>Combining MLflow with Sentence Transformers enhances NLP projects by:</p>\n",
    "        <ul>\n",
    "            <li>Streamlining experiment management and logging.</li>\n",
    "            <li>Offering better control over model versions and configurations.</li>\n",
    "            <li>Ensuring reproducibility of results and model predictions.</li>\n",
    "            <li>Simplifying the deployment process in production environments.</li>\n",
    "        </ul>\n",
    "        <p>This integration empowers efficient tracking, management, and deployment of NLP applications.</p>\n",
    "    </div>\n",
    "</details>\n",
    "<br/>"
   ]
  },
  {
   "cell_type": "code",
   "execution_count": 1,
   "metadata": {},
   "outputs": [
    {
     "name": "stdout",
     "output_type": "stream",
     "text": [
      "env: TOKENIZERS_PARALLELISM=false\n"
     ]
    }
   ],
   "source": [
    "# Disable tokenizers warnings when constructing pipelines\n",
    "%env TOKENIZERS_PARALLELISM=false\n",
    "\n",
    "import warnings\n",
    "\n",
    "# Disable a few less-than-useful UserWarnings from setuptools and pydantic\n",
    "warnings.filterwarnings(\"ignore\", category=UserWarning)"
   ]
  },
  {
   "cell_type": "markdown",
   "metadata": {},
   "source": [
    "### Setting Up the Environment for Sentence Embedding\n",
    "\n",
    "Begin your journey with Sentence Transformers and MLflow by establishing the core working environment.\n",
    "\n",
    "#### Key Steps for Initialization\n",
    "\n",
    "- Import necessary libraries: `SentenceTransformer` and `mlflow`.\n",
    "- Initialize the `\"all-MiniLM-L6-v2\"` Sentence Transformer model.\n",
    "\n",
    "<details>\n",
    "    <div>\n",
    "        <h4>Model Initialization</h4>\n",
    "        <p>The compact and efficient <code>\"all-MiniLM-L6-v2\"</code> model is chosen for its effectiveness in generating meaningful sentence embeddings. Explore more models at the <a href=\"https://huggingface.co/models?pipeline_tag=sentence-similarity&sort=trending\">Hugging Face Hub</a>.</p>\n",
    "    </div>\n",
    "    <div>\n",
    "        <h4>Purpose of the Model</h4>\n",
    "        <p>This model excels in transforming sentences into semantically rich embeddings, applicable in various NLP tasks like semantic search and clustering.</p>\n",
    "    </div>\n",
    "</details>\n",
    "<br/>"
   ]
  },
  {
   "cell_type": "code",
   "execution_count": 2,
   "metadata": {},
   "outputs": [],
   "source": [
    "import mlflow\n",
    "from sentence_transformers import SentenceTransformer\n",
    "\n",
    "\n",
    "model = SentenceTransformer(\"all-MiniLM-L6-v2\")"
   ]
  },
  {
   "cell_type": "markdown",
   "metadata": {},
   "source": [
    "### Defining the Model Signature with MLflow\n",
    "Defining the model signature is a crucial step in setting up our Sentence Transformer model for consistent and expected behavior during inference.\n",
    "\n",
    "<details>\n",
    "    <div>\n",
    "        <h4>Steps for Signature Definition</h4>\n",
    "        <ul>\n",
    "            <li><strong>Prepare Example Sentences</strong>: Define example sentences to demonstrate the model's input and output formats.</li>\n",
    "            <li><strong>Generate Model Signature</strong>: Use the <code>mlflow.models.infer_signature</code> function with the model's input and output to automatically define the signature.</li>\n",
    "        </ul>\n",
    "    </div>\n",
    "    <div>\n",
    "        <h4>Importance of the Model Signature</h4>\n",
    "        <ul>\n",
    "            <li><strong>Clarity in Data Formats</strong>: Ensures clear documentation of the data types and structures the model expects and produces.</li>\n",
    "            <li><strong>Model Deployment and Usage</strong>: Crucial for deploying models to production, ensuring the model receives inputs in the correct format and produces expected outputs.</li>\n",
    "            <li><strong>Error Prevention</strong>: Helps in preventing errors during model inference by enforcing consistent data formats.</li>\n",
    "        </ul>\n",
    "        <p><strong>NOTE</strong>: The <code>List[str]</code> input type is equivalent at inference time to <code>str</code>. The MLflow flavor uses a <code>ColSpec[str]</code> definition for the input type.</p>\n",
    "    </div>\n",
    "</details>\n",
    "<br/>"
   ]
  },
  {
   "cell_type": "code",
   "execution_count": 3,
   "metadata": {},
   "outputs": [
    {
     "data": {
      "text/plain": [
       "inputs: \n",
       "  [string]\n",
       "outputs: \n",
       "  [Tensor('float32', (-1, 384))]\n",
       "params: \n",
       "  None"
      ]
     },
     "execution_count": 3,
     "metadata": {},
     "output_type": "execute_result"
    }
   ],
   "source": [
    "example_sentences = [\"A sentence to encode.\", \"Another sentence to encode.\"]\n",
    "\n",
    "# Infer the signature of the custom model by providing an input example and the resultant prediction output.\n",
    "# We're not including any custom inference parameters in this example, but you can include them as a third argument\n",
    "# to infer_signature(), as you will see in the advanced tutorials for Sentence Transformers.\n",
    "signature = mlflow.models.infer_signature(\n",
    "    model_input=example_sentences,\n",
    "    model_output=model.encode(example_sentences),\n",
    ")\n",
    "\n",
    "# Visualize the signature\n",
    "signature"
   ]
  },
  {
   "cell_type": "markdown",
   "metadata": {},
   "source": [
    "### Creating an experiment\n",
    "\n",
    "We create a new MLflow Experiment so that the run we're going to log our model to does not log to the default experiment and instead has its own contextually relevant entry."
   ]
  },
  {
   "cell_type": "code",
   "execution_count": 4,
   "metadata": {},
   "outputs": [
    {
     "data": {
      "text/plain": [
       "<Experiment: artifact_location='file:///Users/benjamin.wilson/repos/mlflow-fork/mlflow/docs/source/llms/sentence-transformers/tutorials/quickstart/mlruns/469990615226680434', creation_time=1701280211449, experiment_id='469990615226680434', last_update_time=1701280211449, lifecycle_stage='active', name='Introduction to Sentence Transformers', tags={}>"
      ]
     },
     "execution_count": 4,
     "metadata": {},
     "output_type": "execute_result"
    }
   ],
   "source": [
    "# If you are running this tutorial in local mode, leave the next line commented out.\n",
    "# Otherwise, uncomment the following line and set your tracking uri to your local or remote tracking server.\n",
    "\n",
    "# mlflow.set_tracking_uri(\"http://127.0.0.1:8080\")\n",
    "\n",
    "mlflow.set_experiment(\"Introduction to Sentence Transformers\")"
   ]
  },
  {
   "cell_type": "markdown",
   "metadata": {},
   "source": [
    "### Logging the Sentence Transformer Model with MLflow\n",
    "\n",
    "Logging the model in MLflow is essential for tracking, version control, and deployment, following the initialization and signature definition of our Sentence Transformer model.\n",
    "\n",
    "<details>\n",
    "    <div>\n",
    "        <h4>Steps for Logging the Model</h4>\n",
    "        <ul>\n",
    "            <li><strong>Start an MLflow Run</strong>: Initiate a new run with <code>mlflow.start_run()</code>, grouping all logging operations.</li>\n",
    "            <li><strong>Log the Model</strong>: Use <code>mlflow.sentence_transformers.log_model</code> to log the model, providing the model object, artifact path, signature, and an input example.</li>\n",
    "        </ul>\n",
    "    </div>\n",
    "    <div>\n",
    "        <h4>Importance of Model Logging</h4>\n",
    "        <ul>\n",
    "            <li><strong>Model Management</strong>: Facilitates the model's lifecycle management from training to deployment.</li>\n",
    "            <li><strong>Reproducibility and Tracking</strong>: Enables tracking of model versions and ensures reproducibility.</li>\n",
    "            <li><strong>Ease of Deployment</strong>: Simplifies deployment by allowing models to be easily deployed for inference.</li>\n",
    "        </ul>\n",
    "    </div>\n",
    "</details>\n",
    "<br/>"
   ]
  },
  {
   "cell_type": "code",
   "execution_count": 5,
   "metadata": {},
   "outputs": [],
   "source": [
    "with mlflow.start_run():\n",
    "    logged_model = mlflow.sentence_transformers.log_model(\n",
    "        model=model,\n",
    "        artifact_path=\"sbert_model\",\n",
    "        signature=signature,\n",
    "        input_example=example_sentences,\n",
    "    )"
   ]
  },
  {
   "cell_type": "markdown",
   "metadata": {},
   "source": [
    "### Loading the Model and Testing Inference\n",
    "\n",
    "After logging the Sentence Transformer model in MLflow, we demonstrate how to load and test it for real-time inference.\n",
    "\n",
    "<details>\n",
    "    <div>\n",
    "        <h4>Loading the Model as a PyFunc</h4>\n",
    "        <ul>\n",
    "            <li><strong>Why PyFunc</strong>: Load the logged model using <code>mlflow.pyfunc.load_model</code> for seamless integration into Python-based services or applications.</li>\n",
    "            <li><strong>Model URI</strong>: Use the <code>logged_model.model_uri</code> to accurately locate and load the model from MLflow.</li>\n",
    "        </ul>\n",
    "    </div>\n",
    "    <div>\n",
    "        <h4>Conducting Inference Tests</h4>\n",
    "        <ul>\n",
    "            <li><strong>Test Sentences</strong>: Define sentences to test the model's embedding generation capabilities.</li>\n",
    "            <li><strong>Performing Predictions</strong>: Use the model's <code>predict</code> method with test sentences to obtain embeddings.</li>\n",
    "            <li><strong>Printing Embedding Lengths</strong>: Verify embedding generation by checking the length of embedding arrays, corresponding to the dimensionality of each sentence representation.</li>\n",
    "        </ul>\n",
    "    </div>\n",
    "    <div>\n",
    "        <h4>Importance of Inference Testing</h4>\n",
    "        <ul>\n",
    "            <li><strong>Model Validation</strong>: Confirm the model's expected behavior and data processing capability upon loading.</li>\n",
    "            <li><strong>Deployment Readiness</strong>: Validate the model's readiness for real-time integration into application services.</li>\n",
    "        </ul>\n",
    "    </div>\n",
    "</details>\n",
    "<br/>"
   ]
  },
  {
   "cell_type": "code",
   "execution_count": 6,
   "metadata": {},
   "outputs": [
    {
     "name": "stdout",
     "output_type": "stream",
     "text": [
      "The return structure length is: 2\n",
      "The size of embedding 1 is: 384\n",
      "The size of embedding 2 is: 384\n"
     ]
    }
   ],
   "source": [
    "inference_test = [\"I enjoy pies of both apple and cherry.\", \"I prefer cookies.\"]\n",
    "\n",
    "# Load our custom model by providing the uri for where the model was logged.\n",
    "loaded_model_pyfunc = mlflow.pyfunc.load_model(logged_model.model_uri)\n",
    "\n",
    "# Perform a quick test to ensure that our loaded model generates the correct output\n",
    "embeddings_test = loaded_model_pyfunc.predict(inference_test)\n",
    "\n",
    "# Verify that the output is a list of lists of floats (our expected output format)\n",
    "print(f\"The return structure length is: {len(embeddings_test)}\")\n",
    "\n",
    "for i, embedding in enumerate(embeddings_test):\n",
    "    print(f\"The size of embedding {i + 1} is: {len(embeddings_test[i])}\")"
   ]
  },
  {
   "cell_type": "markdown",
   "metadata": {},
   "source": [
    "### Displaying Samples of Generated Embeddings\n",
    "Examine the content of embeddings to verify their quality and understand the model's output.\n",
    "\n",
    "<details>\n",
    "    <div>\n",
    "        <h4>Inspecting the Embedding Samples</h4>\n",
    "        <ul>\n",
    "            <li><strong>Purpose of Sampling</strong>: Inspect a sample of the entries in each embedding to understand the vector representations generated by the model.</li>\n",
    "            <li><strong>Printing Embedding Samples</strong>: Print the first 10 entries of each embedding vector using <code>embedding[:10]</code> to get a glimpse into the model's output.</li>\n",
    "        </ul>\n",
    "    </div>\n",
    "    <div>\n",
    "        <h4>Why Sampling is Important</h4>\n",
    "        <ul>\n",
    "            <li><strong>Quality Check</strong>: Sampling provides a quick way to verify the embeddings' quality and ensures they are meaningful and non-degenerate.</li>\n",
    "            <li><strong>Understanding Model Output</strong>: Seeing parts of the embedding vectors offers an intuitive understanding of the model's output, beneficial for debugging and development.</li>\n",
    "        </ul>\n",
    "    </div>\n",
    "</details>\n",
    "<br/>"
   ]
  },
  {
   "cell_type": "code",
   "execution_count": 7,
   "metadata": {},
   "outputs": [
    {
     "name": "stdout",
     "output_type": "stream",
     "text": [
      "The sample of the first 10 entries in embedding 1 is: [ 0.04866192 -0.03687946  0.02408808  0.03534171 -0.12739632  0.00999414\n",
      "  0.07135344 -0.01433522  0.04296691 -0.00654414]\n",
      "The sample of the first 10 entries in embedding 2 is: [-0.03879027 -0.02373698  0.01314073  0.03589077 -0.01641303 -0.0857707\n",
      "  0.08282158 -0.03173266  0.04507608  0.02777079]\n"
     ]
    }
   ],
   "source": [
    "for i, embedding in enumerate(embeddings_test):\n",
    "    print(f\"The sample of the first 10 entries in embedding {i + 1} is: {embedding[:10]}\")"
   ]
  },
  {
   "cell_type": "markdown",
   "metadata": {},
   "source": [
    "### Native Model Loading in MLflow for Extended Functionality\n",
    "Explore the full range of Sentence Transformer functionalities with MLflow's support for native model loading.\n",
    "\n",
    "<details>\n",
    "    <div>\n",
    "        <h4>Why Support Native Loading?</h4>\n",
    "        <ul>\n",
    "            <li><strong>Access to Native Functionalities</strong>: Native loading unlocks all the features of the Sentence Transformer model, essential for advanced NLP tasks.</li>\n",
    "            <li><strong>Loading the Model Natively</strong>: Use <code>mlflow.sentence_transformers.load_model</code> to load the model with its full capabilities, enhancing flexibility and efficiency.</li>\n",
    "        </ul>\n",
    "    </div>\n",
    "    <div>\n",
    "        <h4>Generating Embeddings Using Native Model</h4>\n",
    "        <ul>\n",
    "            <li><strong>Model Encoding</strong>: Employ the model's native <code>encode</code> method to generate embeddings, taking advantage of optimized functionality.</li>\n",
    "            <li><strong>Importance of Native Encoding</strong>: Native encoding ensures the utilization of the model's full embedding generation capabilities, suitable for large-scale or complex NLP applications.</li>\n",
    "        </ul>\n",
    "    </div>\n",
    "</details>\n",
    "<br/>"
   ]
  },
  {
   "cell_type": "code",
   "execution_count": 8,
   "metadata": {},
   "outputs": [
    {
     "name": "stderr",
     "output_type": "stream",
     "text": [
      "2023/11/30 15:50:24 INFO mlflow.sentence_transformers: 'runs:/eeab3c1b13594fdea13e07585b1c0596/sbert_model' resolved as 'file:///Users/benjamin.wilson/repos/mlflow-fork/mlflow/docs/source/llms/sentence-transformers/tutorials/quickstart/mlruns/469990615226680434/eeab3c1b13594fdea13e07585b1c0596/artifacts/sbert_model'\n"
     ]
    },
    {
     "name": "stdout",
     "output_type": "stream",
     "text": [
      "The sample of the native library encoding call for embedding 1 is: [ 0.04866192 -0.03687946  0.02408808  0.03534171 -0.12739632  0.00999414\n",
      "  0.07135344 -0.01433522  0.04296691 -0.00654414]\n",
      "The sample of the native library encoding call for embedding 2 is: [-0.03879027 -0.02373698  0.01314073  0.03589077 -0.01641303 -0.0857707\n",
      "  0.08282158 -0.03173266  0.04507608  0.02777079]\n"
     ]
    }
   ],
   "source": [
    "# Load the saved model as a native Sentence Transformers model (unlike above, where we loaded as a generic python function)\n",
    "loaded_model_native = mlflow.sentence_transformers.load_model(logged_model.model_uri)\n",
    "\n",
    "# Use the native model to generate embeddings by calling encode() (unlike for the generic python function which uses the single entrypoint of `predict`)\n",
    "native_embeddings = loaded_model_native.encode(inference_test)\n",
    "\n",
    "for i, embedding in enumerate(native_embeddings):\n",
    "    print(\n",
    "        f\"The sample of the native library encoding call for embedding {i + 1} is: {embedding[:10]}\"\n",
    "    )"
   ]
  },
  {
   "cell_type": "markdown",
   "metadata": {},
   "source": [
    "### Conclusion: Embracing the Power of Sentence Transformers with MLflow\n",
    "\n",
    "As we reach the end of our Introduction to Sentence Transformers tutorial, we have successfully navigated the basics of integrating the Sentence Transformers library with MLflow. This foundational knowledge sets the stage for more advanced and specialized applications in the field of Natural Language Processing (NLP).\n",
    "\n",
    "#### Recap of Key Learnings\n",
    "\n",
    "1. **Integration Basics**: We covered the essential steps of loading and logging a Sentence Transformer model using MLflow. This process demonstrated the simplicity and effectiveness of integrating cutting-edge NLP tools within MLflow's ecosystem.\n",
    "\n",
    "2. **Signature and Inference**: Through the creation of a model signature and the execution of inference tasks, we showcased how to operationalize the Sentence Transformer model, ensuring that it's ready for real-world applications.\n",
    "\n",
    "3. **Model Loading and Prediction**: We explored two ways of loading the model - as a PyFunc model and using the native Sentence Transformers loading mechanism. This dual approach highlighted the versatility of MLflow in accommodating different model interaction methods.\n",
    "\n",
    "4. **Embeddings Exploration**: By generating and examining sentence embeddings, we glimpsed the transformative potential of transformer models in capturing semantic information from text.\n",
    "\n",
    "#### Looking Ahead\n",
    "\n",
    "- **Expanding Horizons**: While this tutorial focused on the foundational aspects of Sentence Transformers and MLflow, there's a whole world of advanced applications waiting to be explored. From semantic similarity analysis to paraphrase mining, the potential use cases are vast and varied.\n",
    "\n",
    "- **Continued Learning**: We strongly encourage you to delve into the other tutorials in this series, which dive deeper into more intriguing use cases like similarity analysis, semantic search, and paraphrase mining. These tutorials will provide you with a broader understanding and more practical applications of Sentence Transformers in various NLP tasks.\n",
    "\n",
    "#### Final Thoughts\n",
    "\n",
    "The journey into NLP with Sentence Transformers and MLflow is just beginning. With the skills and insights gained from this tutorial, you are well-equipped to explore more complex and exciting applications. The integration of advanced NLP models with MLflow's robust management and deployment capabilities opens up new avenues for innovation and exploration in the field of language understanding and beyond.\n",
    "\n",
    "Thank you for joining us on this introductory journey, and we look forward to seeing how you apply these tools and concepts in your NLP endeavors!"
   ]
  }
 ],
 "metadata": {
  "kernelspec": {
   "display_name": "mlflow-dev-env",
   "language": "python",
   "name": "python3"
  },
  "language_info": {
   "codemirror_mode": {
    "name": "ipython",
    "version": 3
   },
   "file_extension": ".py",
   "mimetype": "text/x-python",
   "name": "python",
   "nbconvert_exporter": "python",
   "pygments_lexer": "ipython3",
   "version": "3.8.13"
  }
 },
 "nbformat": 4,
 "nbformat_minor": 2
}
