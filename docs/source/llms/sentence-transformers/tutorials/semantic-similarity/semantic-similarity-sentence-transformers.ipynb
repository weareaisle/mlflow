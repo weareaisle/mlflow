{
 "cells": [
  {
   "cell_type": "markdown",
   "metadata": {},
   "source": [
    "## Introduction to Advanced Semantic Similarity Analysis with Sentence Transformers and MLflow\n",
    "\n",
    "Dive into advanced Semantic Similarity Analysis using Sentence Transformers and MLflow in this comprehensive tutorial.\n",
    "\n",
    "### Learning Objectives\n",
    "\n",
    "- Configure `sentence-transformers` for semantic similarity analysis.\n",
    "- Explore custom `PythonModel` implementation in MLflow.\n",
    "- Log models and manage configurations with MLflow.\n",
    "- Deploy and apply models for inference using MLflow's features.\n",
    "\n",
    "To learn more, expand the **details** sections throughout this tutorial.\n",
    "\n",
    "<details>\n",
    "    <div>\n",
    "        <h4>Unveiling the Power of Sentence Transformers for NLP</h4>\n",
    "        <p>Sentence Transformers, specialized adaptations of transformer models, excel in producing semantically rich sentence embeddings. Ideal for semantic search and similarity analysis, these models bring a deeper semantic understanding to NLP tasks.</p>\n",
    "    </div>\n",
    "    <div>\n",
    "        <h4>MLflow: Pioneering Flexible Model Management and Deployment</h4>\n",
    "        <p>MLflow's integration with Sentence Transformers introduces enhanced experiment tracking and flexible model management, crucial for NLP projects. Learn to implement a custom `PythonModel` within MLflow, extending functionalities for unique requirements.</p>\n",
    "    </div>\n",
    "    <div>\n",
    "        <p>Throughout this tutorial, you'll gain hands-on experience in managing and deploying sophisticated NLP models with MLflow, enhancing your skills in semantic similarity analysis and model lifecycle management.</p>\n",
    "    </div>\n",
    "</details>"
   ]
  },
  {
   "cell_type": "code",
   "execution_count": 1,
   "metadata": {},
   "outputs": [
    {
     "name": "stdout",
     "output_type": "stream",
     "text": [
      "env: TOKENIZERS_PARALLELISM=false\n"
     ]
    }
   ],
   "source": [
    "# Disable tokenizers warnings when constructing pipelines\n",
    "%env TOKENIZERS_PARALLELISM=false\n",
    "\n",
    "import warnings\n",
    "\n",
    "# Disable a few less-than-useful UserWarnings from setuptools and pydantic\n",
    "warnings.filterwarnings(\"ignore\", category=UserWarning)"
   ]
  },
  {
   "cell_type": "markdown",
   "metadata": {},
   "source": [
    "### Implementing a Custom SimilarityModel with MLflow\n",
    "Discover how to create a custom `SimilarityModel` class using MLflow's `PythonModel` to assess semantic similarity between sentences.\n",
    "\n",
    "<details>\n",
    "    <div>\n",
    "        <h4>Overview of SimilarityModel</h4>\n",
    "        <p>The `SimilarityModel` is a tailored Python class that leverages MLflow's flexible `PythonModel` interface. It is specifically designed to encapsulate the intricacies of computing semantic similarity between sentence pairs using sophisticated sentence embeddings.</p>\n",
    "    </div>\n",
    "    <div>\n",
    "        <h4>Key Components of the Custom Model</h4>\n",
    "        <ul>\n",
    "            <li><strong>Importing Libraries</strong>: Essential libraries from MLflow, data handling, and Sentence Transformers are imported to facilitate model functionality.</li>\n",
    "            <li><strong>Custom PythonModel - SimilarityModel</strong>:\n",
    "                <br>The <code>load_context</code> method focuses on efficient and safe model loading, crucial for handling complex models like Sentence Transformers.\n",
    "                <br>The <code>predict</code> method, equipped with input type checking and error handling, ensures that the model delivers accurate cosine similarity scores, reflecting semantic correlations.\n",
    "            </li>\n",
    "        </ul>\n",
    "    </div>\n",
    "    <div>\n",
    "        <h4>Significance of Custom SimilarityModel</h4>\n",
    "        <ul>\n",
    "            <li><strong>Flexibility and Customization</strong>: The model's design allows for specialized handling of inputs and outputs, aligning perfectly with unique requirements of semantic similarity tasks.</li>\n",
    "            <li><strong>Robust Error Handling</strong>: Detailed input type checking guarantees a user-friendly experience, preventing common input errors and ensuring the predictability of model behavior.</li>\n",
    "            <li><strong>Efficient Model Loading</strong>: The strategic use of the <code>load_context</code> method for model initialization circumvents serialization challenges, ensuring a smooth operational flow.</li>\n",
    "            <li><strong>Targeted Functionality</strong>: The custom <code>predict</code> method directly computes similarity scores, showcasing the model's capability to deliver task-specific, actionable insights.</li>\n",
    "        </ul>\n",
    "        <p>This custom `SimilarityModel` exemplifies the adaptability of MLflow's `PythonModel` in crafting bespoke NLP solutions, setting a precedent for similar endeavors in various machine learning projects.</p>\n",
    "    </div>\n",
    "</details>\n",
    "<br/>"
   ]
  },
  {
   "cell_type": "code",
   "execution_count": 2,
   "metadata": {},
   "outputs": [],
   "source": [
    "import mlflow\n",
    "from mlflow.models.signature import infer_signature\n",
    "from mlflow.pyfunc import PythonModel\n",
    "import numpy as np\n",
    "import pandas as pd\n",
    "from sentence_transformers import SentenceTransformer, util\n",
    "\n",
    "\n",
    "class SimilarityModel(PythonModel):\n",
    "    def load_context(self, context):\n",
    "        \"\"\"Load the model context for inference.\"\"\"\n",
    "        from sentence_transformers import SentenceTransformer\n",
    "\n",
    "        try:\n",
    "            self.model = SentenceTransformer.load(context.artifacts[\"model_path\"])\n",
    "        except Exception as e:\n",
    "            raise ValueError(f\"Error loading model: {e}\")\n",
    "\n",
    "    def predict(self, context, model_input, params):\n",
    "        \"\"\"Predict method for comparing similarity between two sentences.\"\"\"\n",
    "        from sentence_transformers import util\n",
    "\n",
    "        if isinstance(model_input, pd.DataFrame):\n",
    "            if model_input.shape[1] != 2:\n",
    "                raise ValueError(\"DataFrame input must have exactly two columns.\")\n",
    "            sentence_1, sentence_2 = model_input.iloc[0, 0], model_input.iloc[0, 1]\n",
    "        elif isinstance(model_input, dict):\n",
    "            sentence_1 = model_input.get(\"sentence_1\")\n",
    "            sentence_2 = model_input.get(\"sentence_2\")\n",
    "            if sentence_1 is None or sentence_2 is None:\n",
    "                raise ValueError(\n",
    "                    \"Both 'sentence_1' and 'sentence_2' must be provided in the input dictionary.\"\n",
    "                )\n",
    "        else:\n",
    "            raise TypeError(\n",
    "                f\"Unexpected type for model_input: {type(model_input)}. Must be either a Dict or a DataFrame.\"\n",
    "            )\n",
    "\n",
    "        embedding_1 = self.model.encode(sentence_1)\n",
    "        embedding_2 = self.model.encode(sentence_2)\n",
    "\n",
    "        return np.array(util.cos_sim(embedding_1, embedding_2).tolist())"
   ]
  },
  {
   "cell_type": "markdown",
   "metadata": {},
   "source": [
    "### Preparing the Sentence Transformer Model and Signature\n",
    "Explore the essential steps for setting up the Sentence Transformer model for logging and deployment with MLflow.\n",
    "\n",
    "<details>\n",
    "    <div>\n",
    "        <h4>Loading and Saving the Pre-trained Model</h4>\n",
    "        <ul>\n",
    "            <li><strong>Model Initialization</strong>: A pre-trained Sentence Transformer model, `\"all-MiniLM-L6-v2\"`, is loaded for its efficiency in generating high-quality embeddings suitable for diverse NLP tasks.</li>\n",
    "            <li><strong>Model Saving</strong>: The model is saved locally to `/tmp/sbert_model` to facilitate easy access by MLflow, a prerequisite for model logging in the platform.</li>\n",
    "        </ul>\n",
    "    </div>\n",
    "    <div>\n",
    "        <h4>Preparing Input Example and Artifacts</h4>\n",
    "        <ul>\n",
    "            <li><strong>Input Example Creation</strong>: A DataFrame with sample sentences is prepared, representing typical model inputs and aiding in defining the model's input format.</li>\n",
    "            <li><strong>Defining Artifacts</strong>: The saved model's file path is specified as an artifact in MLflow, an essential step for associating the model with MLflow runs.</li>\n",
    "        </ul>\n",
    "    </div>\n",
    "    <div>\n",
    "        <h4>Generating Test Output for Signature</h4>\n",
    "        <ul>\n",
    "            <li><strong>Test Output Calculation</strong>: The cosine similarity between sentence embeddings is computed, providing a practical example of the model's output.</li>\n",
    "            <li><strong>Signature Inference</strong>: MLflow's `infer_signature` function is utilized to generate a signature that encapsulates the expected input and output formats, reinforcing the model's operational schema.</li>\n",
    "        </ul>\n",
    "    </div>\n",
    "    <div>\n",
    "        <h4>Importance of These Steps</h4>\n",
    "        <ul>\n",
    "            <li><strong>Model Readiness</strong>: These preparatory steps ensure the model is primed for efficient logging and seamless deployment within the MLflow ecosystem.</li>\n",
    "            <li><strong>Input-Output Contract</strong>: The established signature acts as a clear contract, defining the model's input-output dynamics, pivotal for maintaining consistency and accuracy in deployment scenarios.</li>\n",
    "        </ul>\n",
    "        <p>Having meticulously prepared the Sentence Transformer model and its signature, we are now well-equipped to advance towards its integration and management in MLflow.</p>\n",
    "    </div>\n",
    "</details>\n",
    "<br/>"
   ]
  },
  {
   "cell_type": "code",
   "execution_count": 3,
   "metadata": {},
   "outputs": [
    {
     "data": {
      "text/plain": [
       "inputs: \n",
       "  ['sentence_1': string, 'sentence_2': string]\n",
       "outputs: \n",
       "  [Tensor('float64', (-1, 1))]\n",
       "params: \n",
       "  None"
      ]
     },
     "execution_count": 3,
     "metadata": {},
     "output_type": "execute_result"
    }
   ],
   "source": [
    "# Load a pre-trained sentence transformer model\n",
    "model = SentenceTransformer(\"all-MiniLM-L6-v2\")\n",
    "\n",
    "# Create an input example DataFrame\n",
    "input_example = pd.DataFrame([{\"sentence_1\": \"I like apples\", \"sentence_2\": \"I like oranges\"}])\n",
    "\n",
    "# Save the model in the /tmp directory\n",
    "model_directory = \"/tmp/sbert_model\"\n",
    "model.save(model_directory)\n",
    "\n",
    "# Define artifacts with the absolute path\n",
    "artifacts = {\"model_path\": model_directory}\n",
    "\n",
    "# Generate test output for signature\n",
    "test_output = np.array(\n",
    "    util.cos_sim(\n",
    "        model.encode(input_example[\"sentence_1\"][0]), model.encode(input_example[\"sentence_2\"][0])\n",
    "    ).tolist()\n",
    ")\n",
    "\n",
    "# Define the signature associated with the model\n",
    "signature = infer_signature(input_example, test_output)\n",
    "\n",
    "# Visualize the signature\n",
    "signature"
   ]
  },
  {
   "cell_type": "markdown",
   "metadata": {},
   "source": [
    "### Creating an experiment\n",
    "\n",
    "We create a new MLflow Experiment so that the run we're going to log our model to does not log to the default experiment and instead has its own contextually relevant entry."
   ]
  },
  {
   "cell_type": "code",
   "execution_count": 4,
   "metadata": {},
   "outputs": [
    {
     "data": {
      "text/plain": [
       "<Experiment: artifact_location='file:///Users/benjamin.wilson/repos/mlflow-fork/mlflow/docs/source/llms/sentence-transformers/tutorials/semantic-similarity/mlruns/577235153137414660', creation_time=1701280997564, experiment_id='577235153137414660', last_update_time=1701280997564, lifecycle_stage='active', name='Semantic Similarity', tags={}>"
      ]
     },
     "execution_count": 4,
     "metadata": {},
     "output_type": "execute_result"
    }
   ],
   "source": [
    "# If you are running this tutorial in local mode, leave the next line commented out.\n",
    "# Otherwise, uncomment the following line and set your tracking uri to your local or remote tracking server.\n",
    "\n",
    "# mlflow.set_tracking_uri(\"http://127.0.0.1:8080\")\n",
    "\n",
    "mlflow.set_experiment(\"Semantic Similarity\")"
   ]
  },
  {
   "cell_type": "markdown",
   "metadata": {},
   "source": [
    "### Logging the Custom Model with MLflow\n",
    "\n",
    "Learn how to log the custom SimilarityModel with MLflow for effective model management and deployment.\n",
    "\n",
    "<details>\n",
    "    <div>\n",
    "        <h4>Creating a Path for the PyFunc Model</h4>\n",
    "        <p>We establish <code>pyfunc_path</code>, a temporary storage location for the Python model. This path is crucial for MLflow to serialize and store the model effectively.</p>\n",
    "    </div>\n",
    "    <div>\n",
    "        <h4>Logging the Model in MLflow</h4>\n",
    "        <ul>\n",
    "            <li><strong>Initiating MLflow Run</strong>: An MLflow run is started, encapsulating all model logging processes within a structured framework.</li>\n",
    "            <li><strong>Model Logging Details</strong>: The model is identified as <code>\"similarity\"</code>, providing a clear reference for future model retrieval and analysis. An instance of <code>SimilarityModel</code> is logged, encapsulating the Sentence Transformer model and similarity prediction logic. An illustrative DataFrame demonstrates the expected model input format, aiding in user comprehension and model usability. The inferred signature, detailing the input-output schema, is included, reinforcing the correct usage of the model. The artifacts dictionary specifies the location of the serialized Sentence Transformer model, crucial for model reconstruction. Dependencies like <code>sentence_transformers</code> and <code>numpy</code> are listed, ensuring the model's functional integrity in varied deployment environments.</li>\n",
    "        </ul>\n",
    "    </div>\n",
    "    <div>\n",
    "        <h4>Significance of Model Logging</h4>\n",
    "        <ul>\n",
    "            <li><strong>Model Tracking and Versioning</strong>: Logging facilitates comprehensive tracking and effective versioning, enhancing model lifecycle management.</li>\n",
    "            <li><strong>Reproducibility and Deployment</strong>: The logged model, complete with its dependencies, input example, and signature, becomes easily reproducible and deployable, promoting consistent application across environments.</li>\n",
    "        </ul>\n",
    "        <p>Having logged our <code>SimilarityModel</code> in MLflow, it stands ready for advanced applications such as comparative analysis, version management, and deployment for practical inference use cases.</p>\n",
    "    </div>\n",
    "</details>\n",
    "<br/>"
   ]
  },
  {
   "cell_type": "code",
   "execution_count": 5,
   "metadata": {},
   "outputs": [
    {
     "data": {
      "application/vnd.jupyter.widget-view+json": {
       "model_id": "8435d539d5604197a47db3e31d7e1923",
       "version_major": 2,
       "version_minor": 0
      },
      "text/plain": [
       "Downloading artifacts:   0%|          | 0/11 [00:00<?, ?it/s]"
      ]
     },
     "metadata": {},
     "output_type": "display_data"
    },
    {
     "name": "stderr",
     "output_type": "stream",
     "text": [
      "2023/11/30 16:10:34 INFO mlflow.store.artifact.artifact_repo: The progress bar can be disabled by setting the environment variable MLFLOW_ENABLE_ARTIFACTS_PROGRESS_BAR to false\n"
     ]
    }
   ],
   "source": [
    "pyfunc_path = \"/tmp/sbert_pyfunc\"\n",
    "\n",
    "with mlflow.start_run() as run:\n",
    "    model_info = mlflow.pyfunc.log_model(\n",
    "        \"similarity\",\n",
    "        python_model=SimilarityModel(),\n",
    "        input_example=input_example,\n",
    "        signature=signature,\n",
    "        artifacts=artifacts,\n",
    "        pip_requirements=[\"sentence_transformers\", \"numpy\"],\n",
    "    )"
   ]
  },
  {
   "cell_type": "markdown",
   "metadata": {},
   "source": [
    "### Model Inference and Testing Similarity Prediction\n",
    "Demonstrate the use of the `SimilarityModel` to compute semantic similarity between sentences after logging it with MLflow.\n",
    "\n",
    "<details>\n",
    "    <div>\n",
    "        <h4>Loading the Model for Inference</h4>\n",
    "        <ul>\n",
    "            <li><strong>Loading with MLflow</strong>: Utilize <code>mlflow.pyfunc.load_model</code> with the model's URI to load the custom <code>SimilarityModel</code> for inference.</li>\n",
    "            <li><strong>Model Readiness</strong>: The loaded model, named <code>loaded_dynamic</code>, is equipped with the logic defined in the <code>SimilarityModel</code> and is ready to compute similarities.</li>\n",
    "        </ul>\n",
    "    </div>\n",
    "    <div>\n",
    "        <h4>Preparing Data for Similarity Prediction</h4>\n",
    "        <ul>\n",
    "            <li><strong>Creating Input Data</strong>: Construct a DataFrame, <code>similarity_data</code>, with pairs of sentences for which similarity will be computed, showcasing the model's input flexibility.</li>\n",
    "        </ul>\n",
    "    </div>\n",
    "    <div>\n",
    "        <h4>Computing and Displaying Similarity Score</h4>\n",
    "        <ul>\n",
    "            <li><strong>Predicting Similarity</strong>: Invoke the <code>predict</code> method on <code>loaded_dynamic</code> with <code>similarity_data</code> to calculate the cosine similarity between sentence embeddings.</li>\n",
    "            <li><strong>Interpreting the Result</strong>: The resulting <code>similarity_score</code> numerically represents the semantic similarity, offering immediate insights into the model's output.</li>\n",
    "        </ul>\n",
    "    </div>\n",
    "    <div>\n",
    "        <h4>Importance of This Testing</h4>\n",
    "        <ul>\n",
    "            <li><strong>Model Validation</strong>: Confirm the custom model's expected behavior when predicting on new data, ensuring its validity.</li>\n",
    "            <li><strong>Practical Application</strong>: Highlight the model's practical utility in real-world scenarios, demonstrating its capability in semantic similarity analysis.</li>\n",
    "        </ul>\n",
    "    </div>\n",
    "</details>\n",
    "<br/>"
   ]
  },
  {
   "cell_type": "code",
   "execution_count": 6,
   "metadata": {},
   "outputs": [
    {
     "name": "stdout",
     "output_type": "stream",
     "text": [
      "The similarity between these sentences is: [[0.63414472]]\n"
     ]
    }
   ],
   "source": [
    "# Load our custom semantic similarity model implementation by providing the uri that the model was logged to\n",
    "loaded_dynamic = mlflow.pyfunc.load_model(model_info.model_uri)\n",
    "\n",
    "# Create an evaluation test DataFrame\n",
    "similarity_data = pd.DataFrame([{\"sentence_1\": \"I like apples\", \"sentence_2\": \"I like oranges\"}])\n",
    "\n",
    "# Verify that the model generates a reasonable prediction\n",
    "similarity_score = loaded_dynamic.predict(similarity_data)\n",
    "\n",
    "print(f\"The similarity between these sentences is: {similarity_score}\")"
   ]
  },
  {
   "cell_type": "markdown",
   "metadata": {},
   "source": [
    "### Evaluating Semantic Similarity with Distinct Text Pairs\n",
    "Explore the model's capability to discern varying degrees of semantic similarity with carefully chosen text pairs.\n",
    "\n",
    "<details>\n",
    "    <div>\n",
    "        <h4>Selection of Text Pairs</h4>\n",
    "        <ul>\n",
    "            <li><strong>Low Similarity Pair</strong>: Diverse themes in sentences predict a low similarity score, showcasing the model's ability to recognize contrasting semantic contents.</li>\n",
    "            <li><strong>High Similarity Pair</strong>: Sentences with similar themes and tones anticipate a high similarity score, demonstrating the model's semantic parallel detection.</li>\n",
    "        </ul>\n",
    "    </div>\n",
    "    <div>\n",
    "        <h4>sBERT Model's Role in Similarity Calculation</h4>\n",
    "        <ul>\n",
    "            <li><strong>Semantic Understanding</strong>: Utilizing sBERT to encode semantic essence into vectors.</li>\n",
    "            <li><strong>Cosine Similarity</strong>: Calculating similarity scores to quantify semantic closeness.</li>\n",
    "        </ul>\n",
    "    </div>\n",
    "    <div>\n",
    "        <h4>Computing and Displaying Similarity Scores</h4>\n",
    "        <ul>\n",
    "            <li><strong>Predicting for Low Similarity Pair</strong>: Observing the model's interpretation of semantically distant sentences.</li>\n",
    "            <li><strong>Predicting for High Similarity Pair</strong>: Assessing the model's ability to detect semantic similarities in contextually related sentences.</li>\n",
    "        </ul>\n",
    "    </div>\n",
    "    <div>\n",
    "        <h4>Why This Matters</h4>\n",
    "        <ul>\n",
    "            <li><strong>Model Validation</strong>: These tests affirm the model's nuanced language understanding and semantic relationship quantification.</li>\n",
    "            <li><strong>Practical Implications</strong>: Insights from the model's processing of semantic content inform applications in content recommendation, information retrieval, and text comparison.</li>\n",
    "        </ul>\n",
    "    </div>\n",
    "</details>\n",
    "<br/>"
   ]
  },
  {
   "cell_type": "code",
   "execution_count": 7,
   "metadata": {},
   "outputs": [
    {
     "name": "stdout",
     "output_type": "stream",
     "text": [
      "The similarity score for the 'low_similarity' pair is: [[-0.00052751]]\n",
      "The similarity score for the 'high_similarity' pair is: [[0.83703309]]\n"
     ]
    }
   ],
   "source": [
    "low_similarity = {\n",
    "    \"sentence_1\": \"The explorer stood at the edge of the dense rainforest, \"\n",
    "    \"contemplating the journey ahead. The untamed wilderness was \"\n",
    "    \"a labyrinth of exotic plants and unknown dangers, a challenge \"\n",
    "    \"for even the most seasoned adventurer, brimming with the \"\n",
    "    \"prospect of new discoveries and uncharted territories.\",\n",
    "    \"sentence_2\": \"To install the software, begin by downloading the latest \"\n",
    "    \"version from the official website. Once downloaded, run the \"\n",
    "    \"installer and follow the on-screen instructions. Ensure that \"\n",
    "    \"your system meets the minimum requirements and agree to the \"\n",
    "    \"license terms to complete the installation process successfully.\",\n",
    "}\n",
    "\n",
    "high_similarity = {\n",
    "    \"sentence_1\": \"Standing in the shadow of the Great Pyramids of Giza, I felt a \"\n",
    "    \"profound sense of awe. The towering structures, a testament to \"\n",
    "    \"ancient ingenuity, rose majestically against the clear blue sky. \"\n",
    "    \"As I walked around the base of the pyramids, the intricate \"\n",
    "    \"stonework and sheer scale of these wonders of the ancient world \"\n",
    "    \"left me speechless, enveloped in a deep sense of history.\",\n",
    "    \"sentence_2\": \"My visit to the Great Pyramids of Giza was an unforgettable \"\n",
    "    \"experience. Gazing upon these monumental structures, I was \"\n",
    "    \"captivated by their grandeur and historical significance. Each \"\n",
    "    \"step around these ancient marvels filled me with a deep \"\n",
    "    \"appreciation for the architectural prowess of a civilization long \"\n",
    "    \"gone, yet still speaking through these timeless monuments.\",\n",
    "}\n",
    "\n",
    "# Validate that semantically unrelated texts return a low similarity score\n",
    "low_similarity_score = loaded_dynamic.predict(low_similarity)\n",
    "\n",
    "print(f\"The similarity score for the 'low_similarity' pair is: {low_similarity_score}\")\n",
    "\n",
    "# Validate that semantically similar texts return a high similarity score\n",
    "high_similarity_score = loaded_dynamic.predict(high_similarity)\n",
    "\n",
    "print(f\"The similarity score for the 'high_similarity' pair is: {high_similarity_score}\")"
   ]
  },
  {
   "cell_type": "markdown",
   "metadata": {},
   "source": [
    "### Conclusion: Harnessing the Power of Custom MLflow Python Functions in NLP\n",
    "\n",
    "As we conclude this tutorial, let's recap the significant strides we've made in understanding and applying advanced NLP techniques using Sentence Transformers and MLflow.\n",
    "\n",
    "#### Key Takeaways from the Tutorial\n",
    "\n",
    "- **Versatile NLP Modeling**: We explored how to harness the advanced capabilities of Sentence Transformers for semantic similarity analysis, a critical task in many NLP applications.\n",
    "- **Custom MLflow Python Function**: The implementation of the custom `SimilarityModel` in MLflow demonstrated the power and flexibility of using Python functions to extend and adapt the functionality of pre-trained models to suit specific project needs.\n",
    "- **Model Management and Deployment**: We delved into the process of logging, managing, and deploying these models with MLflow, showcasing how MLflow streamlines these aspects of the machine learning lifecycle.\n",
    "- **Practical Semantic Analysis**: Through hands-on examples, we demonstrated the model's ability to discern varying degrees of semantic similarity between sentence pairs, validating its effectiveness in real-world semantic analysis tasks.\n",
    "\n",
    "#### The Power and Flexibility of MLflow's Python Functions\n",
    "\n",
    "- **Customization for Specific Needs**: One of the tutorial's highlights is the demonstration of how MLflow's `PythonModel` can be customized. This customization is not only powerful but also necessary for tailoring models to specific NLP tasks that go beyond standard model functionalities.\n",
    "- **Adaptability and Extension**: The `PythonModel` framework in MLflow provides a solid foundation for implementing a wide range of NLP models. Its adaptability allows for the extension of base model functionalities, such as transforming a sentence embedding model into a semantic similarity comparison tool.\n",
    "\n",
    "#### Empowering Advanced NLP Applications\n",
    "\n",
    "- **Ease of Modification**: The tutorial showcased that modifying the provided `PythonModel` implementation for different flavors in MLflow can be done with relative ease, empowering you to create models that align precisely with your project's requirements.\n",
    "- **Wide Applicability**: Whether it's semantic search, content recommendation, or automated text comparison, the approach outlined in this tutorial can be adapted to a broad spectrum of NLP tasks, opening doors to innovative applications in the field.\n",
    "\n",
    "#### Moving Forward\n",
    "\n",
    "Armed with the knowledge and skills acquired in this tutorial, you are now well-equipped to apply these advanced NLP techniques in your projects. The seamless integration of Sentence Transformers with MLflow's robust model management and deployment capabilities paves the way for developing sophisticated, efficient, and effective NLP solutions.\n",
    "\n",
    "Thank you for joining us on this journey through advanced NLP modeling with Sentence Transformers and MLflow. We hope this tutorial has inspired you to explore further and innovate in your NLP endeavors!\n",
    "\n",
    "Happy Modeling!"
   ]
  }
 ],
 "metadata": {
  "kernelspec": {
   "display_name": "mlflow-dev-env",
   "language": "python",
   "name": "python3"
  },
  "language_info": {
   "codemirror_mode": {
    "name": "ipython",
    "version": 3
   },
   "file_extension": ".py",
   "mimetype": "text/x-python",
   "name": "python",
   "nbconvert_exporter": "python",
   "pygments_lexer": "ipython3",
   "version": "3.8.13"
  }
 },
 "nbformat": 4,
 "nbformat_minor": 2
}
