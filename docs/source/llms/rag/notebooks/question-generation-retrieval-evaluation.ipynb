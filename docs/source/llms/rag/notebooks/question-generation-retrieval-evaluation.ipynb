{
 "cells": [
  {
   "cell_type": "markdown",
   "metadata": {
    "application/vnd.databricks.v1+cell": {
     "cellMetadata": {
      "byteLimit": 2048000,
      "rowLimit": 10000
     },
     "inputWidgets": {},
     "nuid": "cd68bc70-d82e-4919-bc28-68b2450ed3eb",
     "showTitle": false,
     "title": ""
    }
   },
   "source": [
    "# Question Generation For Retrieval Evaluation\n",
    "MLflow provides an advanced framework for constructing Retrieval-Augmented Generation (RAG) models.\n",
    "RAG is a cutting edge approach that combines the strengths of retrieval models (a model that chooses and ranks relevant \n",
    "chunks of a document based on the user's question) and generative models.\n",
    "It effectively merges the capabilities of searching and generating text to provide responses that are contextually\n",
    "relevant and coherent, allowing the generated text to make reference to existing documents. RAG leverges the retriever to find context documents, and\n",
    "this novel approach has revolutionized various NLP tasks.\n",
    "\n",
    "Naturally, we want to be able to evaluate this retriever system for the RAG model to compare and judge its\n",
    "performance. To evaluate a retriever system, we would first need a test set of questions on the documents.\n",
    "These questions need to be diverse, relevant, and coherent. Manually generating questions may be challenging\n",
    "because it first requires you to understand the documents, and spend lots of time coming up with questions \n",
    "for them. \n",
    "\n",
    "We want to make this process simpler by utilizing an LLM to generate questions for this test set. This\n",
    "tutorial will walk through how to generate the questions and how to analyze the diversity and relevance\n",
    "of the questions."
   ]
  },
  {
   "cell_type": "markdown",
   "metadata": {
    "application/vnd.databricks.v1+cell": {
     "cellMetadata": {
      "byteLimit": 2048000,
      "rowLimit": 10000
     },
     "inputWidgets": {},
     "nuid": "b58f25ee-d0d6-4d9d-9cbb-dbbcaceebcdc",
     "showTitle": false,
     "title": ""
    }
   },
   "source": [
    "## Step 1: Install and Load Packages"
   ]
  },
  {
   "cell_type": "code",
   "execution_count": null,
   "metadata": {
    "application/vnd.databricks.v1+cell": {
     "cellMetadata": {
      "byteLimit": 2048000,
      "rowLimit": 10000
     },
     "inputWidgets": {},
     "nuid": "5cbd5d73-4b97-46c8-a83d-9a3cb48901d1",
     "showTitle": false,
     "title": ""
    }
   },
   "outputs": [
    {
     "data": {
      "text/html": [
       "<style scoped>\n",
       "  .ansiout {\n",
       "    display: block;\n",
       "    unicode-bidi: embed;\n",
       "    white-space: pre-wrap;\n",
       "    word-wrap: break-word;\n",
       "    word-break: break-all;\n",
       "    font-family: \"Menlo\", \"Monaco\", \"Consolas\", \"Ubuntu Mono\", \"Source Code Pro\", monospace;\n",
       "    font-size: 13px;\n",
       "    color: #555;\n",
       "    margin-left: 4px;\n",
       "    line-height: 19px;\n",
       "  }\n",
       "</style>\n",
       "<div class=\"ansiout\"></div>"
      ]
     },
     "metadata": {
      "application/vnd.databricks.v1+output": {
       "addedWidgets": {},
       "arguments": {},
       "data": "<div class=\"ansiout\"></div>",
       "datasetInfos": [],
       "metadata": {},
       "removedWidgets": [],
       "type": "html"
      }
     },
     "output_type": "display_data"
    }
   ],
   "source": [
    "import os\n",
    "from langchain.docstore.document import Document\n",
    "from langchain.embeddings import OpenAIEmbeddings\n",
    "from langchain.text_splitter import CharacterTextSplitter\n",
    "from langchain.docstore.document import Document\n",
    "import openai\n",
    "\n",
    "# For scraping\n",
    "import requests\n",
    "import pandas as pd\n",
    "from bs4 import BeautifulSoup\n",
    "\n",
    "# For data analysis and visualization\n",
    "import matplotlib.pyplot as plt\n",
    "import seaborn as sns\n",
    "from sklearn.decomposition import PCA\n",
    "from sklearn.manifold import TSNE\n",
    "import pandas as pd\n",
    "import numpy as np\n",
    "import random"
   ]
  },
  {
   "cell_type": "markdown",
   "metadata": {
    "application/vnd.databricks.v1+cell": {
     "cellMetadata": {},
     "inputWidgets": {},
     "nuid": "b0a21c3b-a534-46a2-891a-f2c737d52124",
     "showTitle": false,
     "title": ""
    }
   },
   "source": [
    "## Step 2: Set OpenAI Key\n",
    "The question generation system can be done using any LLM. We chose to use OpenAI here, so we will need their API key."
   ]
  },
  {
   "cell_type": "code",
   "execution_count": null,
   "metadata": {
    "application/vnd.databricks.v1+cell": {
     "cellMetadata": {
      "byteLimit": 2048000,
      "rowLimit": 10000
     },
     "inputWidgets": {},
     "nuid": "4b6cb5cd-e6f9-47ce-ad78-6c4a9266879f",
     "showTitle": false,
     "title": ""
    }
   },
   "outputs": [
    {
     "data": {
      "text/html": [
       "<style scoped>\n",
       "  .ansiout {\n",
       "    display: block;\n",
       "    unicode-bidi: embed;\n",
       "    white-space: pre-wrap;\n",
       "    word-wrap: break-word;\n",
       "    word-break: break-all;\n",
       "    font-family: \"Menlo\", \"Monaco\", \"Consolas\", \"Ubuntu Mono\", \"Source Code Pro\", monospace;\n",
       "    font-size: 13px;\n",
       "    color: #555;\n",
       "    margin-left: 4px;\n",
       "    line-height: 19px;\n",
       "  }\n",
       "</style>\n",
       "<div class=\"ansiout\"></div>"
      ]
     },
     "metadata": {
      "application/vnd.databricks.v1+output": {
       "addedWidgets": {},
       "arguments": {},
       "data": "<div class=\"ansiout\"></div>",
       "datasetInfos": [],
       "metadata": {},
       "removedWidgets": [],
       "type": "html"
      }
     },
     "output_type": "display_data"
    }
   ],
   "source": [
    "openai.api_key = \"<redacted>\"\n",
    "os.environ[\"OPENAI_API_KEY\"] = \"<redacted>\""
   ]
  },
  {
   "cell_type": "markdown",
   "metadata": {
    "application/vnd.databricks.v1+cell": {
     "cellMetadata": {},
     "inputWidgets": {},
     "nuid": "db7d1074-b850-4318-9681-e0629a78682e",
     "showTitle": false,
     "title": ""
    }
   },
   "source": [
    "## Step 3: Decide on chunk size and number of questions per chunk"
   ]
  },
  {
   "cell_type": "code",
   "execution_count": null,
   "metadata": {
    "application/vnd.databricks.v1+cell": {
     "cellMetadata": {
      "byteLimit": 2048000,
      "rowLimit": 10000
     },
     "inputWidgets": {},
     "nuid": "b1ce021d-47f6-44e7-9626-4c2d69db10fe",
     "showTitle": false,
     "title": ""
    }
   },
   "outputs": [
    {
     "data": {
      "text/html": [
       "<style scoped>\n",
       "  .ansiout {\n",
       "    display: block;\n",
       "    unicode-bidi: embed;\n",
       "    white-space: pre-wrap;\n",
       "    word-wrap: break-word;\n",
       "    word-break: break-all;\n",
       "    font-family: \"Menlo\", \"Monaco\", \"Consolas\", \"Ubuntu Mono\", \"Source Code Pro\", monospace;\n",
       "    font-size: 13px;\n",
       "    color: #555;\n",
       "    margin-left: 4px;\n",
       "    line-height: 19px;\n",
       "  }\n",
       "</style>\n",
       "<div class=\"ansiout\"></div>"
      ]
     },
     "metadata": {
      "application/vnd.databricks.v1+output": {
       "addedWidgets": {},
       "arguments": {},
       "data": "<div class=\"ansiout\"></div>",
       "datasetInfos": [],
       "metadata": {},
       "removedWidgets": [],
       "type": "html"
      }
     },
     "output_type": "display_data"
    }
   ],
   "source": [
    "CHUNK_SIZE = 1500\n",
    "QUESTIONS_PER_CHUNK = 5\n",
    "NUM_DOCUMENTS = 40  # Number of scraped chunks to use"
   ]
  },
  {
   "cell_type": "markdown",
   "metadata": {
    "application/vnd.databricks.v1+cell": {
     "cellMetadata": {},
     "inputWidgets": {},
     "nuid": "28cd0b69-59e7-42e1-b5d7-c4346c5ed898",
     "showTitle": false,
     "title": ""
    }
   },
   "source": [
    "## Step 4: Get Document Data\n",
    "We scrape the documents from the MLflow website to use to generate questions."
   ]
  },
  {
   "cell_type": "code",
   "execution_count": null,
   "metadata": {
    "application/vnd.databricks.v1+cell": {
     "cellMetadata": {
      "byteLimit": 2048000,
      "rowLimit": 10000
     },
     "inputWidgets": {},
     "nuid": "5eaa267e-925f-4e53-93e8-891eeca3f56e",
     "showTitle": false,
     "title": ""
    }
   },
   "outputs": [
    {
     "data": {
      "text/html": [
       "<style scoped>\n",
       "  .ansiout {\n",
       "    display: block;\n",
       "    unicode-bidi: embed;\n",
       "    white-space: pre-wrap;\n",
       "    word-wrap: break-word;\n",
       "    word-break: break-all;\n",
       "    font-family: \"Menlo\", \"Monaco\", \"Consolas\", \"Ubuntu Mono\", \"Source Code Pro\", monospace;\n",
       "    font-size: 13px;\n",
       "    color: #555;\n",
       "    margin-left: 4px;\n",
       "    line-height: 19px;\n",
       "  }\n",
       "</style>\n",
       "<div class=\"ansiout\">/databricks/python/lib/python3.8/site-packages/bs4/builder/__init__.py:545: XMLParsedAsHTMLWarning: It looks like you&#39;re parsing an XML document using an HTML parser. If this really is an HTML document (maybe it&#39;s XHTML?), you can ignore or filter this warning. If it&#39;s XML, you should know that using an XML parser will be more reliable. To parse this document as XML, make sure you have the lxml package installed, and pass the keyword argument `features=&#34;xml&#34;` into the BeautifulSoup constructor.\n",
       "  warnings.warn(\n",
       "Out[38]: </div>"
      ]
     },
     "metadata": {
      "application/vnd.databricks.v1+output": {
       "addedWidgets": {},
       "arguments": {},
       "data": "<div class=\"ansiout\">/databricks/python/lib/python3.8/site-packages/bs4/builder/__init__.py:545: XMLParsedAsHTMLWarning: It looks like you&#39;re parsing an XML document using an HTML parser. If this really is an HTML document (maybe it&#39;s XHTML?), you can ignore or filter this warning. If it&#39;s XML, you should know that using an XML parser will be more reliable. To parse this document as XML, make sure you have the lxml package installed, and pass the keyword argument `features=&#34;xml&#34;` into the BeautifulSoup constructor.\n  warnings.warn(\nOut[38]: </div>",
       "datasetInfos": [],
       "metadata": {},
       "removedWidgets": [],
       "type": "html"
      }
     },
     "output_type": "display_data"
    },
    {
     "data": {
      "text/html": [
       "<div>\n",
       "<style scoped>\n",
       "    .dataframe tbody tr th:only-of-type {\n",
       "        vertical-align: middle;\n",
       "    }\n",
       "\n",
       "    .dataframe tbody tr th {\n",
       "        vertical-align: top;\n",
       "    }\n",
       "\n",
       "    .dataframe thead th {\n",
       "        text-align: right;\n",
       "    }\n",
       "</style>\n",
       "<table border=\"1\" class=\"dataframe\">\n",
       "  <thead>\n",
       "    <tr style=\"text-align: right;\">\n",
       "      <th></th>\n",
       "      <th>source</th>\n",
       "      <th>text</th>\n",
       "    </tr>\n",
       "  </thead>\n",
       "  <tbody>\n",
       "    <tr>\n",
       "      <th>0</th>\n",
       "      <td>what-is-mlflow.html</td>\n",
       "      <td>Documentation  What is MLflow?       What i...</td>\n",
       "    </tr>\n",
       "    <tr>\n",
       "      <th>1</th>\n",
       "      <td>quickstart.html</td>\n",
       "      <td>Documentation  Quickstart: Install MLflow, ...</td>\n",
       "    </tr>\n",
       "    <tr>\n",
       "      <th>2</th>\n",
       "      <td>quickstart_mlops.html</td>\n",
       "      <td>Documentation  Quickstart: Compare runs, ch...</td>\n",
       "    </tr>\n",
       "  </tbody>\n",
       "</table>\n",
       "</div>"
      ]
     },
     "metadata": {
      "application/vnd.databricks.v1+output": {
       "addedWidgets": {},
       "arguments": {},
       "data": "<div>\n<style scoped>\n    .dataframe tbody tr th:only-of-type {\n        vertical-align: middle;\n    }\n\n    .dataframe tbody tr th {\n        vertical-align: top;\n    }\n\n    .dataframe thead th {\n        text-align: right;\n    }\n</style>\n<table border=\"1\" class=\"dataframe\">\n  <thead>\n    <tr style=\"text-align: right;\">\n      <th></th>\n      <th>source</th>\n      <th>text</th>\n    </tr>\n  </thead>\n  <tbody>\n    <tr>\n      <th>0</th>\n      <td>what-is-mlflow.html</td>\n      <td>Documentation  What is MLflow?       What i...</td>\n    </tr>\n    <tr>\n      <th>1</th>\n      <td>quickstart.html</td>\n      <td>Documentation  Quickstart: Install MLflow, ...</td>\n    </tr>\n    <tr>\n      <th>2</th>\n      <td>quickstart_mlops.html</td>\n      <td>Documentation  Quickstart: Compare runs, ch...</td>\n    </tr>\n  </tbody>\n</table>\n</div>",
       "datasetInfos": [],
       "metadata": {},
       "removedWidgets": [],
       "textData": null,
       "type": "htmlSandbox"
      }
     },
     "output_type": "display_data"
    }
   ],
   "source": [
    "page = requests.get(\"https://mlflow.org/docs/latest/index.html\")\n",
    "soup = BeautifulSoup(page.content, \"html.parser\")\n",
    "\n",
    "mainLocation = \"https://mlflow.org/docs/latest/\"\n",
    "header = {\n",
    "    \"User-Agent\": \"Mozilla/5.0 (X11; Linux x86_64) AppleWebKit/537.11 (KHTML, like Gecko) Chrome/23.0.1271.64 Safari/537.11\",\n",
    "    \"Accept-Language\": \"en-US,en;q=0.8\",\n",
    "    \"Connection\": \"keep-alive\",\n",
    "}\n",
    "\n",
    "data = []\n",
    "for a_link in soup.find_all(\"a\"):\n",
    "    document_url = mainLocation + a_link[\"href\"]\n",
    "    page = requests.get(document_url, headers=header)\n",
    "    soup = BeautifulSoup(page.content, \"html.parser\")\n",
    "    file_to_store = a_link.get(\"href\").split(\"/\")[-1]\n",
    "    if soup.find(\"div\", {\"class\": \"rst-content\"}):\n",
    "        data.append(\n",
    "            [file_to_store, soup.find(\"div\", {\"class\": \"rst-content\"}).text.replace(\"\\n\", \" \")]\n",
    "        )\n",
    "\n",
    "df = pd.DataFrame(data, columns=[\"source\", \"text\"])\n",
    "df.head(3)"
   ]
  },
  {
   "cell_type": "markdown",
   "metadata": {
    "application/vnd.databricks.v1+cell": {
     "cellMetadata": {},
     "inputWidgets": {},
     "nuid": "fd2fac88-c82d-4d56-abd5-73abc951bd00",
     "showTitle": false,
     "title": ""
    }
   },
   "source": [
    "## Step 5: Load Document Data\n",
    "We want to generate questions based on a set of documents. Here, we load the documents as Langchain Documents and utilize their embedding models. Through Langchain Documents, each document is broken down into a \"chunk\", which is a snippet of the text."
   ]
  },
  {
   "cell_type": "code",
   "execution_count": null,
   "metadata": {
    "application/vnd.databricks.v1+cell": {
     "cellMetadata": {
      "byteLimit": 2048000,
      "rowLimit": 10000
     },
     "inputWidgets": {},
     "nuid": "968d3404-5e41-4a54-8b61-a6eed4f8cc78",
     "showTitle": false,
     "title": ""
    }
   },
   "outputs": [
    {
     "data": {
      "text/html": [
       "<style scoped>\n",
       "  .ansiout {\n",
       "    display: block;\n",
       "    unicode-bidi: embed;\n",
       "    white-space: pre-wrap;\n",
       "    word-wrap: break-word;\n",
       "    word-break: break-all;\n",
       "    font-family: \"Menlo\", \"Monaco\", \"Consolas\", \"Ubuntu Mono\", \"Source Code Pro\", monospace;\n",
       "    font-size: 13px;\n",
       "    color: #555;\n",
       "    margin-left: 4px;\n",
       "    line-height: 19px;\n",
       "  }\n",
       "</style>\n",
       "<div class=\"ansiout\">page_content=&#39;Documentation  What is MLflow?       What is MLflow?  MLflow is a versatile, expandable, open-source platform for managing workflows and artifacts across the machine learning lifecycle. It has built-in integrations with many popular ML libraries, but can be used with any library, algorithm, or deployment tool. It is designed to be extensible, so you can write plugins to support new workflows, libraries, and tools.    MLflow has five components:  MLflow Tracking: An API for logging parameters, code versions, metrics, model environment dependencies, and model artifacts when running your machine learning code. MLflow Tracking has a UI for reviewing and comparing runs and their results. This image from the MLflow Tracking UI shows a chart linking metrics (learning rate and momentum) to a loss metric:      MLflow Models: A model packaging format and suite of tools that let you easily deploy a trained model (from any ML library) for batch or real-time inference on platforms such as Docker, Apache Spark, Databricks, Azure ML and AWS SageMaker. This image shows MLflow Tracking UI’s view of a run’s detail and its MLflow model. You can see that the artifacts in the model directory include the model weights, files describing the model’s environment and dependencies, and sample code for loading the model and inferencing with it:      MLflow Model Registry: A centralized model store, set of APIs, and UI focused on the approval, quality assurance, and deployment of an MLflow Model.&#39; metadata={}\n",
       "</div>"
      ]
     },
     "metadata": {
      "application/vnd.databricks.v1+output": {
       "addedWidgets": {},
       "arguments": {},
       "data": "<div class=\"ansiout\">page_content=&#39;Documentation  What is MLflow?       What is MLflow?  MLflow is a versatile, expandable, open-source platform for managing workflows and artifacts across the machine learning lifecycle. It has built-in integrations with many popular ML libraries, but can be used with any library, algorithm, or deployment tool. It is designed to be extensible, so you can write plugins to support new workflows, libraries, and tools.    MLflow has five components:  MLflow Tracking: An API for logging parameters, code versions, metrics, model environment dependencies, and model artifacts when running your machine learning code. MLflow Tracking has a UI for reviewing and comparing runs and their results. This image from the MLflow Tracking UI shows a chart linking metrics (learning rate and momentum) to a loss metric:      MLflow Models: A model packaging format and suite of tools that let you easily deploy a trained model (from any ML library) for batch or real-time inference on platforms such as Docker, Apache Spark, Databricks, Azure ML and AWS SageMaker. This image shows MLflow Tracking UI’s view of a run’s detail and its MLflow model. You can see that the artifacts in the model directory include the model weights, files describing the model’s environment and dependencies, and sample code for loading the model and inferencing with it:      MLflow Model Registry: A centralized model store, set of APIs, and UI focused on the approval, quality assurance, and deployment of an MLflow Model.&#39; metadata={}\n</div>",
       "datasetInfos": [],
       "metadata": {},
       "removedWidgets": [],
       "type": "html"
      }
     },
     "output_type": "display_data"
    }
   ],
   "source": [
    "text_splitter = CharacterTextSplitter(chunk_size=CHUNK_SIZE, separator=\" \")\n",
    "documents = []\n",
    "for index, page in df.iterrows():\n",
    "    chunks = text_splitter.split_text(page[1])\n",
    "    for chunk in chunks:\n",
    "        documents.append(Document(page_content=chunk))\n",
    "print(documents[0])"
   ]
  },
  {
   "cell_type": "markdown",
   "metadata": {
    "application/vnd.databricks.v1+cell": {
     "cellMetadata": {},
     "inputWidgets": {},
     "nuid": "d1743300-f55d-4a93-9bbe-70fbe47f022e",
     "showTitle": false,
     "title": ""
    }
   },
   "source": [
    "## Step 6: Generate Questions\n",
    "The goal here is to generate questions that are coherant and contextually relevant to their respective document chunk. You can use any LLM, but in this tutorial we chose to generate the list of questions with OpenAI GPT3.5. We also utilize prompt engineering to produce better quality questions, as we found it to be a simple and effective way to improve the responses. In particular, we found two changes to be helpful:\n",
    "- Better quality questions were produced if you ask the model for multiple questions per chunk rather than just one. This may be because it can ensure local diversity, better formatting, and have an implicit understanding that you are trying to get a list of questions.\n",
    "- We observed that some questions reference the document without explaining what it is referencing, hence we include this in the prompt explicitly to help with this."
   ]
  },
  {
   "cell_type": "code",
   "execution_count": null,
   "metadata": {
    "application/vnd.databricks.v1+cell": {
     "cellMetadata": {
      "byteLimit": 2048000,
      "rowLimit": 10000
     },
     "inputWidgets": {},
     "nuid": "b88bd73d-222f-42c4-ada4-f251d40c2da2",
     "showTitle": false,
     "title": ""
    }
   },
   "outputs": [
    {
     "data": {
      "text/html": [
       "<style scoped>\n",
       "  .ansiout {\n",
       "    display: block;\n",
       "    unicode-bidi: embed;\n",
       "    white-space: pre-wrap;\n",
       "    word-wrap: break-word;\n",
       "    word-break: break-all;\n",
       "    font-family: \"Menlo\", \"Monaco\", \"Consolas\", \"Ubuntu Mono\", \"Source Code Pro\", monospace;\n",
       "    font-size: 13px;\n",
       "    color: #555;\n",
       "    margin-left: 4px;\n",
       "    line-height: 19px;\n",
       "  }\n",
       "</style>\n",
       "<div class=\"ansiout\">{&#39;chunk&#39;: &#39;Documentation  What is MLflow?       What is MLflow?  MLflow is a versatile, expandable, open-source platform for managing workflows and artifacts across the machine learning lifecycle. It has built-in integrations with many popular ML libraries, but can be used with any library, algorithm, or deployment tool. It is designed to be extensible, so you can write plugins to support new workflows, libraries, and tools.    MLflow has five components:  MLflow Tracking: An API for logging parameters, code versions, metrics, model environment dependencies, and model artifacts when running your machine learning code. MLflow Tracking has a UI for reviewing and comparing runs and their results. This image from the MLflow Tracking UI shows a chart linking metrics (learning rate and momentum) to a loss metric:      MLflow Models: A model packaging format and suite of tools that let you easily deploy a trained model (from any ML library) for batch or real-time inference on platforms such as Docker, Apache Spark, Databricks, Azure ML and AWS SageMaker. This image shows MLflow Tracking UI’s view of a run’s detail and its MLflow model. You can see that the artifacts in the model directory include the model weights, files describing the model’s environment and dependencies, and sample code for loading the model and inferencing with it:      MLflow Model Registry: A centralized model store, set of APIs, and UI focused on the approval, quality assurance, and deployment of an MLflow Model.&#39;, &#39;questions&#39;: [&#39;What is the purpose of MLflow Tracking and what are some of the information it logs?&#39;, &#39;How does MLflow Models help with deploying trained models and on what platforms can it be used?&#39;, &#39;Can MLflow be used with any ML library, algorithm, or deployment tool?&#39;, &#39;What are some key features of MLflow Model Registry and how does it assist with model deployment?&#39;, &#39;How does MLflow support extensibility and what can be achieved by writing plugins for it?&#39;]}\n",
       "</div>"
      ]
     },
     "metadata": {
      "application/vnd.databricks.v1+output": {
       "addedWidgets": {},
       "arguments": {},
       "data": "<div class=\"ansiout\">{&#39;chunk&#39;: &#39;Documentation  What is MLflow?       What is MLflow?  MLflow is a versatile, expandable, open-source platform for managing workflows and artifacts across the machine learning lifecycle. It has built-in integrations with many popular ML libraries, but can be used with any library, algorithm, or deployment tool. It is designed to be extensible, so you can write plugins to support new workflows, libraries, and tools.    MLflow has five components:  MLflow Tracking: An API for logging parameters, code versions, metrics, model environment dependencies, and model artifacts when running your machine learning code. MLflow Tracking has a UI for reviewing and comparing runs and their results. This image from the MLflow Tracking UI shows a chart linking metrics (learning rate and momentum) to a loss metric:      MLflow Models: A model packaging format and suite of tools that let you easily deploy a trained model (from any ML library) for batch or real-time inference on platforms such as Docker, Apache Spark, Databricks, Azure ML and AWS SageMaker. This image shows MLflow Tracking UI’s view of a run’s detail and its MLflow model. You can see that the artifacts in the model directory include the model weights, files describing the model’s environment and dependencies, and sample code for loading the model and inferencing with it:      MLflow Model Registry: A centralized model store, set of APIs, and UI focused on the approval, quality assurance, and deployment of an MLflow Model.&#39;, &#39;questions&#39;: [&#39;What is the purpose of MLflow Tracking and what are some of the information it logs?&#39;, &#39;How does MLflow Models help with deploying trained models and on what platforms can it be used?&#39;, &#39;Can MLflow be used with any ML library, algorithm, or deployment tool?&#39;, &#39;What are some key features of MLflow Model Registry and how does it assist with model deployment?&#39;, &#39;How does MLflow support extensibility and what can be achieved by writing plugins for it?&#39;]}\n</div>",
       "datasetInfos": [],
       "metadata": {},
       "removedWidgets": [],
       "type": "html"
      }
     },
     "output_type": "display_data"
    }
   ],
   "source": [
    "queries = []\n",
    "for doc in documents[:NUM_DOCUMENTS]:\n",
    "    chunk = doc.page_content\n",
    "    chunks.append(chunk)\n",
    "    params = {\n",
    "        \"model\": \"gpt-3.5-turbo\",\n",
    "        \"messages\": [\n",
    "            {\n",
    "                \"role\": \"user\",\n",
    "                \"content\": f\"{chunk}.\\n Please generate {QUESTIONS_PER_CHUNK} questions based on the above document. The questions should be diverse and ask for different aspects of the document. Don't give vague references to the document without description. Split each question with a newline\",\n",
    "            }\n",
    "        ],\n",
    "    }\n",
    "\n",
    "    response = openai.ChatCompletion.create(**params)\n",
    "    response_queries = response.choices[0].message.content\n",
    "\n",
    "    question_list = []\n",
    "    for q in response_queries.splitlines():\n",
    "        q = \" \".join(q.split()[1:])\n",
    "        question_list.append(q)\n",
    "\n",
    "    queries.append({\"chunk\": chunk, \"questions\": question_list})\n",
    "\n",
    "print(queries[0])"
   ]
  },
  {
   "cell_type": "markdown",
   "metadata": {
    "application/vnd.databricks.v1+cell": {
     "cellMetadata": {
      "byteLimit": 2048000,
      "rowLimit": 10000
     },
     "inputWidgets": {},
     "nuid": "03138482-c22e-4e05-ac15-f860544f1d87",
     "showTitle": false,
     "title": ""
    }
   },
   "source": [
    "## Quality Analysis of Questions Generated (Optional)\n",
    "If you would like to compare quality of questions generated across different prompts, we can\n",
    "analyze the quality of questions manually and in aggregate. We want to evaluate questions \n",
    "along two dimensions - their diversity and relevance.\n",
    "\n",
    "Note: There isn't a well-defined way to analyze the quality of generated questions, so this is just one approach you can take to gain insight into how diverse and relevant your generated questions are."
   ]
  },
  {
   "cell_type": "markdown",
   "metadata": {
    "application/vnd.databricks.v1+cell": {
     "cellMetadata": {},
     "inputWidgets": {},
     "nuid": "5df96390-b4db-4c47-8e80-34d0a1f404a7",
     "showTitle": false,
     "title": ""
    }
   },
   "source": [
    "### Evaluating Diversity of Questions\n",
    "\n",
    "Diversity of questions is important because we want questions to cover the majority of the\n",
    "document content. In addition, we want to be able to evaluate the retriever with different \n",
    "forms of questioning. We want to be able to have harder questions and easier questions. All\n",
    "of these are not straightforward to analyze, and we decided to analyze its through question\n",
    "length and latent space embeddings."
   ]
  },
  {
   "cell_type": "code",
   "execution_count": null,
   "metadata": {
    "application/vnd.databricks.v1+cell": {
     "cellMetadata": {
      "byteLimit": 2048000,
      "rowLimit": 10000
     },
     "inputWidgets": {},
     "nuid": "7ec3f5b1-11b5-454c-915a-1541e72a30eb",
     "showTitle": false,
     "title": ""
    }
   },
   "outputs": [
    {
     "data": {
      "text/html": [
       "<style scoped>\n",
       "  .ansiout {\n",
       "    display: block;\n",
       "    unicode-bidi: embed;\n",
       "    white-space: pre-wrap;\n",
       "    word-wrap: break-word;\n",
       "    word-break: break-all;\n",
       "    font-family: \"Menlo\", \"Monaco\", \"Consolas\", \"Ubuntu Mono\", \"Source Code Pro\", monospace;\n",
       "    font-size: 13px;\n",
       "    color: #555;\n",
       "    margin-left: 4px;\n",
       "    line-height: 19px;\n",
       "  }\n",
       "</style>\n",
       "<div class=\"ansiout\"></div>"
      ]
     },
     "metadata": {
      "application/vnd.databricks.v1+output": {
       "addedWidgets": {},
       "arguments": {},
       "data": "<div class=\"ansiout\"></div>",
       "datasetInfos": [],
       "metadata": {},
       "removedWidgets": [],
       "type": "html"
      }
     },
     "output_type": "display_data"
    }
   ],
   "source": [
    "# Get all the questions in a list\n",
    "questions = []\n",
    "for query in queries:\n",
    "    questions += query[\"questions\"]"
   ]
  },
  {
   "cell_type": "markdown",
   "metadata": {
    "application/vnd.databricks.v1+cell": {
     "cellMetadata": {},
     "inputWidgets": {},
     "nuid": "f9f3e4b3-4988-4570-a687-e762c6bac202",
     "showTitle": false,
     "title": ""
    }
   },
   "source": [
    "#### Length\n",
    "Length gives a sense of how diverse the questions are. Some questions may be wordy while\n",
    "others are straight to the point. It also allows us to identify problems with the question\n",
    "generated. For example, you may identify some questions to have a length of 0."
   ]
  },
  {
   "cell_type": "code",
   "execution_count": null,
   "metadata": {
    "application/vnd.databricks.v1+cell": {
     "cellMetadata": {
      "byteLimit": 2048000,
      "rowLimit": 10000
     },
     "inputWidgets": {},
     "nuid": "3222af59-f1e3-477f-a13e-52428044a09a",
     "showTitle": false,
     "title": ""
    }
   },
   "outputs": [
    {
     "data": {
      "image/png": "[encoded data removed]"
     },
     "metadata": {
      "application/vnd.databricks.v1+output": {
       "addedWidgets": {},
       "arguments": {},
       "data": "data:image/png;base64,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",
       "datasetInfos": [],
       "metadata": {
        "imageDimensions": {
         "height": 278,
         "width": 382
        }
       },
       "removedWidgets": [],
       "type": "image"
      },
      "image/png": {
       "height": 278,
       "width": 382
      }
     },
     "output_type": "display_data"
    }
   ],
   "source": [
    "# Length\n",
    "question_len = pd.DataFrame([len(q) for q in questions], columns=[\"length\"])\n",
    "question_len.hist(bins=100)\n",
    "plt.title(\"Histogram of Question Lengths\")\n",
    "plt.xlabel(\"Question Length\")\n",
    "plt.ylabel(\"Frequency\")\n",
    "plt.show()"
   ]
  },
  {
   "cell_type": "markdown",
   "metadata": {
    "application/vnd.databricks.v1+cell": {
     "cellMetadata": {},
     "inputWidgets": {},
     "nuid": "9d6f9401-ed13-4a2e-9336-2ae0bc031a5f",
     "showTitle": false,
     "title": ""
    }
   },
   "source": [
    "In addition to visual representation, we also want to look at more concrete percentile values.\n"
   ]
  },
  {
   "cell_type": "code",
   "execution_count": null,
   "metadata": {
    "application/vnd.databricks.v1+cell": {
     "cellMetadata": {
      "byteLimit": 2048000,
      "rowLimit": 10000
     },
     "inputWidgets": {},
     "nuid": "d31fbb55-0504-4f14-aeb5-5e48912f3275",
     "showTitle": false,
     "title": ""
    }
   },
   "outputs": [
    {
     "data": {
      "text/html": [
       "<style scoped>\n",
       "  .ansiout {\n",
       "    display: block;\n",
       "    unicode-bidi: embed;\n",
       "    white-space: pre-wrap;\n",
       "    word-wrap: break-word;\n",
       "    word-break: break-all;\n",
       "    font-family: \"Menlo\", \"Monaco\", \"Consolas\", \"Ubuntu Mono\", \"Source Code Pro\", monospace;\n",
       "    font-size: 13px;\n",
       "    color: #555;\n",
       "    margin-left: 4px;\n",
       "    line-height: 19px;\n",
       "  }\n",
       "</style>\n",
       "<div class=\"ansiout\">p10-p90 range is 61\n",
       "</div>"
      ]
     },
     "metadata": {
      "application/vnd.databricks.v1+output": {
       "addedWidgets": {},
       "arguments": {},
       "data": "<div class=\"ansiout\">p10-p90 range is 61\n</div>",
       "datasetInfos": [],
       "metadata": {},
       "removedWidgets": [],
       "type": "html"
      }
     },
     "output_type": "display_data"
    }
   ],
   "source": [
    "# Calculating percentile values\n",
    "p10 = int(question_len[\"length\"].quantile(0.10))\n",
    "p90 = int(question_len[\"length\"].quantile(0.90))\n",
    "print(\"p10-p90 range is\", p90 - p10)"
   ]
  },
  {
   "cell_type": "markdown",
   "metadata": {
    "application/vnd.databricks.v1+cell": {
     "cellMetadata": {},
     "inputWidgets": {},
     "nuid": "1a813bc6-6b46-4e85-80a2-66e41bc4a35a",
     "showTitle": false,
     "title": ""
    }
   },
   "source": [
    "We noticed that the short queries are all empty strings, and hence we need to filter for this."
   ]
  },
  {
   "cell_type": "code",
   "execution_count": null,
   "metadata": {
    "application/vnd.databricks.v1+cell": {
     "cellMetadata": {
      "byteLimit": 2048000,
      "rowLimit": 10000
     },
     "inputWidgets": {},
     "nuid": "472d2fa7-3393-47a7-9fde-ecd8d552adb4",
     "showTitle": false,
     "title": ""
    }
   },
   "outputs": [
    {
     "data": {
      "text/html": [
       "<style scoped>\n",
       "  .ansiout {\n",
       "    display: block;\n",
       "    unicode-bidi: embed;\n",
       "    white-space: pre-wrap;\n",
       "    word-wrap: break-word;\n",
       "    word-break: break-all;\n",
       "    font-family: \"Menlo\", \"Monaco\", \"Consolas\", \"Ubuntu Mono\", \"Source Code Pro\", monospace;\n",
       "    font-size: 13px;\n",
       "    color: #555;\n",
       "    margin-left: 4px;\n",
       "    line-height: 19px;\n",
       "  }\n",
       "</style>\n",
       "<div class=\"ansiout\">Out[51]: [&#39;&#39;, &#39;&#39;, &#39;&#39;, &#39;&#39;]</div>"
      ]
     },
     "metadata": {
      "application/vnd.databricks.v1+output": {
       "addedWidgets": {},
       "arguments": {},
       "data": "<div class=\"ansiout\">Out[51]: [&#39;&#39;, &#39;&#39;, &#39;&#39;, &#39;&#39;]</div>",
       "datasetInfos": [],
       "metadata": {},
       "removedWidgets": [],
       "type": "html"
      }
     },
     "output_type": "display_data"
    }
   ],
   "source": [
    "[q for q in questions if len(q) < 5]"
   ]
  },
  {
   "cell_type": "markdown",
   "metadata": {
    "application/vnd.databricks.v1+cell": {
     "cellMetadata": {
      "byteLimit": 2048000,
      "rowLimit": 10000
     },
     "inputWidgets": {},
     "nuid": "37cc6a27-434b-47b5-906a-b8b0f42e8fc8",
     "showTitle": false,
     "title": ""
    }
   },
   "source": [
    "There are also a couple queries that are longer than normal. However, these seem fine."
   ]
  },
  {
   "cell_type": "code",
   "execution_count": null,
   "metadata": {
    "application/vnd.databricks.v1+cell": {
     "cellMetadata": {
      "byteLimit": 2048000,
      "rowLimit": 10000
     },
     "inputWidgets": {},
     "nuid": "40808ff8-d227-427a-89ae-beeac614dfa0",
     "showTitle": false,
     "title": ""
    }
   },
   "outputs": [
    {
     "data": {
      "text/html": [
       "<style scoped>\n",
       "  .ansiout {\n",
       "    display: block;\n",
       "    unicode-bidi: embed;\n",
       "    white-space: pre-wrap;\n",
       "    word-wrap: break-word;\n",
       "    word-break: break-all;\n",
       "    font-family: \"Menlo\", \"Monaco\", \"Consolas\", \"Ubuntu Mono\", \"Source Code Pro\", monospace;\n",
       "    font-size: 13px;\n",
       "    color: #555;\n",
       "    margin-left: 4px;\n",
       "    line-height: 19px;\n",
       "  }\n",
       "</style>\n",
       "<div class=\"ansiout\">Out[52]: [&#39;What is the default backend and artifact store used in the MLflow tracking server? How can a user customize these stores by supplying arguments to the mlflow server command?&#39;,\n",
       " &#39;How are MLflow entities and artifacts recorded in Scenario 2? Describe the interfaces used by the MLflow client to store artifacts and save MLflow entities to the SQLite database file.&#39;]</div>"
      ]
     },
     "metadata": {
      "application/vnd.databricks.v1+output": {
       "addedWidgets": {},
       "arguments": {},
       "data": "<div class=\"ansiout\">Out[52]: [&#39;What is the default backend and artifact store used in the MLflow tracking server? How can a user customize these stores by supplying arguments to the mlflow server command?&#39;,\n &#39;How are MLflow entities and artifacts recorded in Scenario 2? Describe the interfaces used by the MLflow client to store artifacts and save MLflow entities to the SQLite database file.&#39;]</div>",
       "datasetInfos": [],
       "metadata": {},
       "removedWidgets": [],
       "type": "html"
      }
     },
     "output_type": "display_data"
    }
   ],
   "source": [
    "[q for q in questions if len(q) > 160]"
   ]
  },
  {
   "cell_type": "markdown",
   "metadata": {
    "application/vnd.databricks.v1+cell": {
     "cellMetadata": {},
     "inputWidgets": {},
     "nuid": "e6c43c4e-2b9a-4071-bce8-be87c2484383",
     "showTitle": false,
     "title": ""
    }
   },
   "source": [
    "#### Latent Space\n",
    "Latent space embeddings contain semantic information about the question. This can be used to \n",
    "evaluate the diversity and the difference between two questions semantically. To do so, we will need to map the\n",
    "high dimensional space to a lower dimensional space. We utilize PCA and TSNE to map the embeddings \n",
    "into a 2-dimensional space for visualization."
   ]
  },
  {
   "cell_type": "code",
   "execution_count": null,
   "metadata": {
    "application/vnd.databricks.v1+cell": {
     "cellMetadata": {
      "byteLimit": 2048000,
      "rowLimit": 10000
     },
     "inputWidgets": {},
     "nuid": "aff1c561-8395-4437-bbcd-f868c49f8a8d",
     "showTitle": false,
     "title": ""
    }
   },
   "outputs": [
    {
     "data": {
      "text/html": [
       "<style scoped>\n",
       "  .ansiout {\n",
       "    display: block;\n",
       "    unicode-bidi: embed;\n",
       "    white-space: pre-wrap;\n",
       "    word-wrap: break-word;\n",
       "    word-break: break-all;\n",
       "    font-family: \"Menlo\", \"Monaco\", \"Consolas\", \"Ubuntu Mono\", \"Source Code Pro\", monospace;\n",
       "    font-size: 13px;\n",
       "    color: #555;\n",
       "    margin-left: 4px;\n",
       "    line-height: 19px;\n",
       "  }\n",
       "</style>\n",
       "<div class=\"ansiout\"></div>"
      ]
     },
     "metadata": {
      "application/vnd.databricks.v1+output": {
       "addedWidgets": {},
       "arguments": {},
       "data": "<div class=\"ansiout\"></div>",
       "datasetInfos": [],
       "metadata": {},
       "removedWidgets": [],
       "type": "html"
      }
     },
     "output_type": "display_data"
    }
   ],
   "source": [
    "# post process to remove empty questions\n",
    "questions_to_embed = [q for q in questions if len(q) > 0]"
   ]
  },
  {
   "cell_type": "markdown",
   "metadata": {
    "application/vnd.databricks.v1+cell": {
     "cellMetadata": {},
     "inputWidgets": {},
     "nuid": "0f056942-595a-46d1-9b69-c5efa08aa5f3",
     "showTitle": false,
     "title": ""
    }
   },
   "source": [
    "We append 5 benchmark queries to help visualize how diverse the questions are. The first four of these questions are semantically similar and all asking about MLflow, while the last is different and refers to spark and model registry."
   ]
  },
  {
   "cell_type": "code",
   "execution_count": null,
   "metadata": {
    "application/vnd.databricks.v1+cell": {
     "cellMetadata": {
      "byteLimit": 2048000,
      "rowLimit": 10000
     },
     "inputWidgets": {},
     "nuid": "4e52277d-939e-4447-999e-9728b3db8c58",
     "showTitle": false,
     "title": ""
    }
   },
   "outputs": [
    {
     "data": {
      "text/html": [
       "<style scoped>\n",
       "  .ansiout {\n",
       "    display: block;\n",
       "    unicode-bidi: embed;\n",
       "    white-space: pre-wrap;\n",
       "    word-wrap: break-word;\n",
       "    word-break: break-all;\n",
       "    font-family: \"Menlo\", \"Monaco\", \"Consolas\", \"Ubuntu Mono\", \"Source Code Pro\", monospace;\n",
       "    font-size: 13px;\n",
       "    color: #555;\n",
       "    margin-left: 4px;\n",
       "    line-height: 19px;\n",
       "  }\n",
       "</style>\n",
       "<div class=\"ansiout\"></div>"
      ]
     },
     "metadata": {
      "application/vnd.databricks.v1+output": {
       "addedWidgets": {},
       "arguments": {},
       "data": "<div class=\"ansiout\"></div>",
       "datasetInfos": [],
       "metadata": {},
       "removedWidgets": [],
       "type": "html"
      }
     },
     "output_type": "display_data"
    }
   ],
   "source": [
    "benchmark_questions = [\n",
    "    \"What is MLflow?\",\n",
    "    \"What is MLflow about?\",\n",
    "    \"Tell me about MLflow Tracking\",\n",
    "    \"How does MLflow work?\",\n",
    "    \"How is spark used in model registry?\",\n",
    "]\n",
    "questions_to_embed = questions_to_embed + benchmark_questions"
   ]
  },
  {
   "cell_type": "markdown",
   "metadata": {
    "application/vnd.databricks.v1+cell": {
     "cellMetadata": {},
     "inputWidgets": {},
     "nuid": "3c772b11-337b-4d0e-99f3-86a79158c686",
     "showTitle": false,
     "title": ""
    }
   },
   "source": [
    "We apply PCA to reduce the embedding dimensions to 50 before applying TSNE to reduce it to 2 dimensions, as recommended by sklearn due to the computational complexity of TSNE."
   ]
  },
  {
   "cell_type": "code",
   "execution_count": null,
   "metadata": {
    "application/vnd.databricks.v1+cell": {
     "cellMetadata": {
      "byteLimit": 2048000,
      "rowLimit": 10000
     },
     "inputWidgets": {},
     "nuid": "5c9aa32e-8168-417d-89f1-5fdf65e91491",
     "showTitle": false,
     "title": ""
    }
   },
   "outputs": [
    {
     "data": {
      "text/html": [
       "<style scoped>\n",
       "  .ansiout {\n",
       "    display: block;\n",
       "    unicode-bidi: embed;\n",
       "    white-space: pre-wrap;\n",
       "    word-wrap: break-word;\n",
       "    word-break: break-all;\n",
       "    font-family: \"Menlo\", \"Monaco\", \"Consolas\", \"Ubuntu Mono\", \"Source Code Pro\", monospace;\n",
       "    font-size: 13px;\n",
       "    color: #555;\n",
       "    margin-left: 4px;\n",
       "    line-height: 19px;\n",
       "  }\n",
       "</style>\n",
       "<div class=\"ansiout\"></div>"
      ]
     },
     "metadata": {
      "application/vnd.databricks.v1+output": {
       "addedWidgets": {},
       "arguments": {},
       "data": "<div class=\"ansiout\"></div>",
       "datasetInfos": [],
       "metadata": {},
       "removedWidgets": [],
       "type": "html"
      }
     },
     "output_type": "display_data"
    }
   ],
   "source": [
    "# Apply embeddings\n",
    "embeddings = OpenAIEmbeddings()\n",
    "question_embeddings = embeddings.embed_documents(questions_to_embed)\n",
    "# PCA on embeddings to reduce to 50-dim\n",
    "pca = PCA(n_components=50)\n",
    "question_embeddings_50 = pca.fit_transform(question_embeddings)\n",
    "# TSNE on embeddings to reduce to 2-dim\n",
    "tsne = TSNE(n_components=2)\n",
    "lower_dim_embeddings = tsne.fit_transform(question_embeddings_50)"
   ]
  },
  {
   "cell_type": "markdown",
   "metadata": {
    "application/vnd.databricks.v1+cell": {
     "cellMetadata": {},
     "inputWidgets": {},
     "nuid": "44cc8950-679d-4d65-ad43-0c18cd46c8bc",
     "showTitle": false,
     "title": ""
    }
   },
   "source": [
    "Now that we have 2-dimensional embeddings representing the semantics of the question, we can visualize it with a scatter plot, differentiating the generated questions and the benchmark questions."
   ]
  },
  {
   "cell_type": "code",
   "execution_count": null,
   "metadata": {
    "application/vnd.databricks.v1+cell": {
     "cellMetadata": {
      "byteLimit": 2048000,
      "rowLimit": 10000
     },
     "inputWidgets": {},
     "nuid": "ea3260ed-c69a-4de1-901d-7855554e4e1b",
     "showTitle": false,
     "title": ""
    }
   },
   "outputs": [
    {
     "data": {
      "image/png": "[encoded data removed]"
     },
     "metadata": {
      "application/vnd.databricks.v1+output": {
       "addedWidgets": {},
       "arguments": {},
       "data": "data:image/png;base64,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",
       "datasetInfos": [],
       "metadata": {
        "imageDimensions": {
         "height": 262,
         "width": 391
        }
       },
       "removedWidgets": [],
       "type": "image"
      },
      "image/png": {
       "height": 262,
       "width": 391
      }
     },
     "output_type": "display_data"
    }
   ],
   "source": [
    "labels = np.concatenate(\n",
    "    [\n",
    "        np.full(len(lower_dim_embeddings) - len(benchmark_questions), \"generated\"),\n",
    "        np.full(len(benchmark_questions), \"benchmark\"),\n",
    "    ]\n",
    ")\n",
    "data = pd.DataFrame(\n",
    "    {\"x\": lower_dim_embeddings[:, 0], \"y\": lower_dim_embeddings[:, 1], \"label\": labels}\n",
    ")\n",
    "sns.scatterplot(data=data, x=\"x\", y=\"y\", hue=\"label\");"
   ]
  },
  {
   "cell_type": "markdown",
   "metadata": {
    "application/vnd.databricks.v1+cell": {
     "cellMetadata": {},
     "inputWidgets": {},
     "nuid": "3a2c0588-8695-4703-a4fd-d7f53e463ce8",
     "showTitle": false,
     "title": ""
    }
   },
   "source": [
    "Observe that within the orange points on the scatter plot, there is one point that is further than the others. That is the unique benchmark question about Spark and Model Registry. This plot gives a sense of the diversity of the questions generated."
   ]
  },
  {
   "cell_type": "markdown",
   "metadata": {
    "application/vnd.databricks.v1+cell": {
     "cellMetadata": {},
     "inputWidgets": {},
     "nuid": "927a179b-1cf0-49fe-a195-34182d7f4fd1",
     "showTitle": false,
     "title": ""
    }
   },
   "source": [
    "### Evaluate Document Relevance\n",
    "Another important axis to consider is how relevant the questions are to the document we provided. We want to understand whether the questions generated by the LLM is actually referring to our provided text, or whether it is hallucinating irrelevant questions. We will evaluate relevance by first manually checking certain questions against their document chunk. Then, we define a measure of relevance to analyze it quantitatively."
   ]
  },
  {
   "cell_type": "markdown",
   "metadata": {
    "application/vnd.databricks.v1+cell": {
     "cellMetadata": {},
     "inputWidgets": {},
     "nuid": "232c205e-5f9d-43f3-83c2-6c3b81661f0c",
     "showTitle": false,
     "title": ""
    }
   },
   "source": [
    "#### Manual Checking of Document Relevance\n",
    "\n",
    "Manual qualitative check of whether the questions are relevant to the document."
   ]
  },
  {
   "cell_type": "code",
   "execution_count": null,
   "metadata": {
    "application/vnd.databricks.v1+cell": {
     "cellMetadata": {
      "byteLimit": 2048000,
      "rowLimit": 10000
     },
     "inputWidgets": {},
     "nuid": "81791b6e-8e26-4a35-9139-4632380d1e08",
     "showTitle": false,
     "title": ""
    }
   },
   "outputs": [
    {
     "data": {
      "text/html": [
       "<style scoped>\n",
       "  .ansiout {\n",
       "    display: block;\n",
       "    unicode-bidi: embed;\n",
       "    white-space: pre-wrap;\n",
       "    word-wrap: break-word;\n",
       "    word-break: break-all;\n",
       "    font-family: \"Menlo\", \"Monaco\", \"Consolas\", \"Ubuntu Mono\", \"Source Code Pro\", monospace;\n",
       "    font-size: 13px;\n",
       "    color: #555;\n",
       "    margin-left: 4px;\n",
       "    line-height: 19px;\n",
       "  }\n",
       "</style>\n",
       "<div class=\"ansiout\">Chunk: represents a run and associates each hyperparameter evaluation run’s parameters to the evaluated error metric for the run.  The red graphs on this graph are runs that fared poorly. The lowest one is a baseline run with both lr and momentum set to 0.0. That baseline run has an RMSE of ~0.89. The other red lines show that high momentum can also lead to poor results with this problem and architecture. The graphs shading towards blue are runs that fared better. Hover your mouse over individual runs to see their details.   Register your best model  Choose the best run and register it as a model. In the Table view, choose the best run. In the Run Detail page, open the Artifacts section and select the Register Model button. In the Register Model dialog, enter a name for the model, such as wine-quality, and click Register. Now, your model is available for deployment. You can see it in the Models page of the MLflow UI. Open the page for the model you just registered. You can add a description for the model, add tags, and easily navigate back to the source run that generated this model. You can also transition the model to different stages. For example, you can transition the model to Staging to indicate that it is ready for testing. You can transition it to Production to indicate that it is ready for deployment. Transition the model to Staging by choosing the Stage dropdown:    Serve the model locally  MLflow allows you to easily serve models produced by any run or model version. You\n",
       "Question: What factors are indicated by the red graphs in the given graph and how do they affect the performance of the runs?\n",
       "Question: What is the significance of the baseline run with lr and momentum set to 0.0 in terms of error metric and performance?\n",
       "Question: How can high momentum affect the results of the problem and architecture being analyzed?\n",
       "Question: How can the best run be chosen and registered as a model in the MLflow UI?\n",
       "Question: How does MLflow enable the serving of models locally and what are the benefits of this functionality?\n",
       "--------------------------------------------------------------------------------\n",
       "Chunk: role authentication    Part 2c and d:    Retrieving artifacts from the configured backend store for a user request is done with the same authorized authentication that was configured at server start Artifacts are passed to the end user through the Tracking Server through the interface of the HttpArtifactRepository     Note When an experiment is created, the artifact storage location from the configuration of the tracking server is logged in the experiment’s metadata. When enabling proxied artifact storage, any existing experiments that were created while operating a tracking server in non-proxied mode will continue to use a non-proxied artifact location. In order to use proxied artifact logging, a new experiment must be created. If the intention of enabling a tracking server in -serve-artifacts mode is to eliminate the need for a client to have authentication to the underlying storage, new experiments should be created for use by clients so that the tracking server can handle authentication after this migration.   Warning The MLflow artifact proxied access service enables users to have an assumed role of access to all artifacts that are accessible to the Tracking Server. Administrators who are enabling this feature should ensure that the access level granted to the Tracking Server for artifact operations meets all security requirements prior to enabling the Tracking Server to operate in a proxied file handling role.    Scenario 6: MLflow Tracking Server used exclusively as\n",
       "Question: How does the MLflow Tracking Server retrieve artifacts from the configured backend store for a user request?\n",
       "Question: What interface is used by the Tracking Server to pass artifacts to the end user?\n",
       "Question: How is the artifact storage location logged in the experiment&#39;s metadata when an experiment is created?\n",
       "Question: Can existing experiments created while operating a non-proxied tracking server be used for proxied artifact logging?\n",
       "Question: What precaution should administrators take before enabling the MLflow artifact proxied access service?\n",
       "--------------------------------------------------------------------------------\n",
       "Chunk: models as files in a management system of their choice, and track which run a model came from. Researchers and Open Source Developers can publish code to GitHub in the MLflow Project format, making it easy for anyone to run their code using the mlflow run github.com/... command. ML Library Developers can output models in the MLflow Model format to have them automatically support deployment using MLflow’s built-in tools. In addition, deployment tool developers (for example, a cloud vendor building a serving platform) can automatically support a large variety of models.        Previous Next                © MLflow Project, a Series of LF Projects, LLC. All rights reserved.\n",
       "Question: What is the purpose of MLflow&#39;s Project format? How does it make it easier for others to run code?\n",
       "Question: How does MLflow support ML Library Developers in terms of model deployment?\n",
       "Question: How can deployment tool developers benefit from using MLflow?\n",
       "Question: Can you explain the role of MLflow in tracking the origin of a model run? How does it help researchers and developers?\n",
       "Question: Who holds the rights to MLflow Project?\n",
       "--------------------------------------------------------------------------------\n",
       "</div>"
      ]
     },
     "metadata": {
      "application/vnd.databricks.v1+output": {
       "addedWidgets": {},
       "arguments": {},
       "data": "<div class=\"ansiout\">Chunk: represents a run and associates each hyperparameter evaluation run’s parameters to the evaluated error metric for the run.  The red graphs on this graph are runs that fared poorly. The lowest one is a baseline run with both lr and momentum set to 0.0. That baseline run has an RMSE of ~0.89. The other red lines show that high momentum can also lead to poor results with this problem and architecture. The graphs shading towards blue are runs that fared better. Hover your mouse over individual runs to see their details.   Register your best model  Choose the best run and register it as a model. In the Table view, choose the best run. In the Run Detail page, open the Artifacts section and select the Register Model button. In the Register Model dialog, enter a name for the model, such as wine-quality, and click Register. Now, your model is available for deployment. You can see it in the Models page of the MLflow UI. Open the page for the model you just registered. You can add a description for the model, add tags, and easily navigate back to the source run that generated this model. You can also transition the model to different stages. For example, you can transition the model to Staging to indicate that it is ready for testing. You can transition it to Production to indicate that it is ready for deployment. Transition the model to Staging by choosing the Stage dropdown:    Serve the model locally  MLflow allows you to easily serve models produced by any run or model version. You\nQuestion: What factors are indicated by the red graphs in the given graph and how do they affect the performance of the runs?\nQuestion: What is the significance of the baseline run with lr and momentum set to 0.0 in terms of error metric and performance?\nQuestion: How can high momentum affect the results of the problem and architecture being analyzed?\nQuestion: How can the best run be chosen and registered as a model in the MLflow UI?\nQuestion: How does MLflow enable the serving of models locally and what are the benefits of this functionality?\n--------------------------------------------------------------------------------\nChunk: role authentication    Part 2c and d:    Retrieving artifacts from the configured backend store for a user request is done with the same authorized authentication that was configured at server start Artifacts are passed to the end user through the Tracking Server through the interface of the HttpArtifactRepository     Note When an experiment is created, the artifact storage location from the configuration of the tracking server is logged in the experiment’s metadata. When enabling proxied artifact storage, any existing experiments that were created while operating a tracking server in non-proxied mode will continue to use a non-proxied artifact location. In order to use proxied artifact logging, a new experiment must be created. If the intention of enabling a tracking server in -serve-artifacts mode is to eliminate the need for a client to have authentication to the underlying storage, new experiments should be created for use by clients so that the tracking server can handle authentication after this migration.   Warning The MLflow artifact proxied access service enables users to have an assumed role of access to all artifacts that are accessible to the Tracking Server. Administrators who are enabling this feature should ensure that the access level granted to the Tracking Server for artifact operations meets all security requirements prior to enabling the Tracking Server to operate in a proxied file handling role.    Scenario 6: MLflow Tracking Server used exclusively as\nQuestion: How does the MLflow Tracking Server retrieve artifacts from the configured backend store for a user request?\nQuestion: What interface is used by the Tracking Server to pass artifacts to the end user?\nQuestion: How is the artifact storage location logged in the experiment&#39;s metadata when an experiment is created?\nQuestion: Can existing experiments created while operating a non-proxied tracking server be used for proxied artifact logging?\nQuestion: What precaution should administrators take before enabling the MLflow artifact proxied access service?\n--------------------------------------------------------------------------------\nChunk: models as files in a management system of their choice, and track which run a model came from. Researchers and Open Source Developers can publish code to GitHub in the MLflow Project format, making it easy for anyone to run their code using the mlflow run github.com/... command. ML Library Developers can output models in the MLflow Model format to have them automatically support deployment using MLflow’s built-in tools. In addition, deployment tool developers (for example, a cloud vendor building a serving platform) can automatically support a large variety of models.        Previous Next                © MLflow Project, a Series of LF Projects, LLC. All rights reserved.\nQuestion: What is the purpose of MLflow&#39;s Project format? How does it make it easier for others to run code?\nQuestion: How does MLflow support ML Library Developers in terms of model deployment?\nQuestion: How can deployment tool developers benefit from using MLflow?\nQuestion: Can you explain the role of MLflow in tracking the origin of a model run? How does it help researchers and developers?\nQuestion: Who holds the rights to MLflow Project?\n--------------------------------------------------------------------------------\n</div>",
       "datasetInfos": [],
       "metadata": {},
       "removedWidgets": [],
       "type": "html"
      }
     },
     "output_type": "display_data"
    }
   ],
   "source": [
    "samples = 3  # num of chunks we want to observe\n",
    "\n",
    "for query in random.sample(queries, samples):\n",
    "    print(\"Chunk:\", query[\"chunk\"])\n",
    "    for q in query[\"questions\"]:\n",
    "        print(\"Question:\", q)\n",
    "    print(\"-\" * 80)  # delimiter"
   ]
  },
  {
   "cell_type": "markdown",
   "metadata": {
    "application/vnd.databricks.v1+cell": {
     "cellMetadata": {},
     "inputWidgets": {},
     "nuid": "5b1a688f-6844-4e54-8518-8e31ef999497",
     "showTitle": false,
     "title": ""
    }
   },
   "source": [
    "#### Embeddings Cosine Similarity\n",
    "\n",
    "The embedding of the chunk and query is placed in the same latent space, and the retriever model would extract similar chunk embeddings to a query embedding. Hence, relevance for the retriever is defined by the distance of embeddings in this latent space.\n",
    "\n",
    "Cosine similarity is a measure of vector similarity, and can be used to determine the distance of embeddings between the chunk and the query. It is a distance metric that approaches 1 when the question and chunk are similar, and becomes 0 when they are different.\n",
    "\n",
    "We can use the cosine similarity score directly to measure the relevancy. However, if we just have a cosine similarity score, it is not interpretable without something to compare it to. Hence, we define relative question relevance as:\n",
    "$$\\frac{cossim(chunk, question_q)}{\\frac{1}{len(questions)-1}\\sum_{i\\ !=\\ q}cossim(chunk, question_i)}$$\n",
    "where `question_q` is a question generated from the chunk.\n",
    "\n",
    "This relative question relevance can measure how much more relevant a question generated from the chunk is compared to a question generated by another chunk in this dataset. It would give a score of above 1 if the question generated from the chunk is more relevant and a score below if its not. We can then use this score to identify any irrelevant questions generated."
   ]
  },
  {
   "cell_type": "code",
   "execution_count": null,
   "metadata": {
    "application/vnd.databricks.v1+cell": {
     "cellMetadata": {
      "byteLimit": 2048000,
      "rowLimit": 10000
     },
     "inputWidgets": {},
     "nuid": "6e689051-5af9-48dd-b836-bf03e94b419b",
     "showTitle": false,
     "title": ""
    }
   },
   "outputs": [
    {
     "data": {
      "text/html": [
       "<style scoped>\n",
       "  .ansiout {\n",
       "    display: block;\n",
       "    unicode-bidi: embed;\n",
       "    white-space: pre-wrap;\n",
       "    word-wrap: break-word;\n",
       "    word-break: break-all;\n",
       "    font-family: \"Menlo\", \"Monaco\", \"Consolas\", \"Ubuntu Mono\", \"Source Code Pro\", monospace;\n",
       "    font-size: 13px;\n",
       "    color: #555;\n",
       "    margin-left: 4px;\n",
       "    line-height: 19px;\n",
       "  }\n",
       "</style>\n",
       "<div class=\"ansiout\"></div>"
      ]
     },
     "metadata": {
      "application/vnd.databricks.v1+output": {
       "addedWidgets": {},
       "arguments": {},
       "data": "<div class=\"ansiout\"></div>",
       "datasetInfos": [],
       "metadata": {},
       "removedWidgets": [],
       "type": "html"
      }
     },
     "output_type": "display_data"
    }
   ],
   "source": [
    "embedded_queries = []\n",
    "for query in queries:\n",
    "    embedded_query = {\n",
    "        \"chunk\": np.squeeze(embeddings.embed_documents([query[\"chunk\"]])),\n",
    "        \"questions\": embeddings.embed_documents(\n",
    "            [q for q in query[\"questions\"] if len(q) > 0]\n",
    "        ),  # embedding cant take empty strings\n",
    "    }\n",
    "    embedded_queries.append(embedded_query)"
   ]
  },
  {
   "cell_type": "code",
   "execution_count": null,
   "metadata": {
    "application/vnd.databricks.v1+cell": {
     "cellMetadata": {
      "byteLimit": 2048000,
      "rowLimit": 10000
     },
     "inputWidgets": {},
     "nuid": "51196872-7bde-46a6-9169-49126dd374b3",
     "showTitle": false,
     "title": ""
    }
   },
   "outputs": [
    {
     "data": {
      "text/html": [
       "<style scoped>\n",
       "  .ansiout {\n",
       "    display: block;\n",
       "    unicode-bidi: embed;\n",
       "    white-space: pre-wrap;\n",
       "    word-wrap: break-word;\n",
       "    word-break: break-all;\n",
       "    font-family: \"Menlo\", \"Monaco\", \"Consolas\", \"Ubuntu Mono\", \"Source Code Pro\", monospace;\n",
       "    font-size: 13px;\n",
       "    color: #555;\n",
       "    margin-left: 4px;\n",
       "    line-height: 19px;\n",
       "  }\n",
       "</style>\n",
       "<div class=\"ansiout\"></div>"
      ]
     },
     "metadata": {
      "application/vnd.databricks.v1+output": {
       "addedWidgets": {},
       "arguments": {},
       "data": "<div class=\"ansiout\"></div>",
       "datasetInfos": [],
       "metadata": {},
       "removedWidgets": [],
       "type": "html"
      }
     },
     "output_type": "display_data"
    }
   ],
   "source": [
    "def cossim(x, y):\n",
    "    return np.dot(x, y) / (np.linalg.norm(x) * np.linalg.norm(y))\n",
    "\n",
    "\n",
    "question_relevance = []\n",
    "for i, query in enumerate(embedded_queries):\n",
    "    for q_index, question_emb in enumerate(query[\"questions\"]):\n",
    "        # generate cosine similarity for the chunk the question is generated from\n",
    "        chunk_sim = cossim(question_emb, query[\"chunk\"])\n",
    "\n",
    "        # generate average cosine similarity between chunk and irrelevant questions\n",
    "        avg_irrelevant_cossim = []\n",
    "        for j, other_query in enumerate(embedded_queries):\n",
    "            if i != j:\n",
    "                # supposedly irrelevant questions to the chunk.\n",
    "                for q_emb in other_query[\"questions\"]:\n",
    "                    avg_irrelevant_cossim.append(cossim(q_emb, query[\"chunk\"]))\n",
    "        other_sim = np.average(avg_irrelevant_cossim)\n",
    "        question_relevance.append(\n",
    "            {\n",
    "                \"question\": queries[i][\"questions\"][q_index],  # text version of question\n",
    "                \"chunk\": queries[i][\"chunk\"],  # text version of chunk\n",
    "                \"score\": chunk_sim / other_sim,  # relative similarity score\n",
    "            }\n",
    "        )"
   ]
  },
  {
   "cell_type": "markdown",
   "metadata": {
    "application/vnd.databricks.v1+cell": {
     "cellMetadata": {},
     "inputWidgets": {},
     "nuid": "ff7ea2dd-252f-45f4-b50b-951ecdb45f03",
     "showTitle": false,
     "title": ""
    }
   },
   "source": [
    "After we score each question by its relative relevancy, we can evaluate the generated questions as a whole."
   ]
  },
  {
   "cell_type": "code",
   "execution_count": null,
   "metadata": {
    "application/vnd.databricks.v1+cell": {
     "cellMetadata": {
      "byteLimit": 2048000,
      "rowLimit": 10000
     },
     "inputWidgets": {},
     "nuid": "972da253-3fa2-490f-9712-ecfcc8630463",
     "showTitle": false,
     "title": ""
    }
   },
   "outputs": [
    {
     "data": {
      "image/png": "[encoded data removed]"
     },
     "metadata": {
      "application/vnd.databricks.v1+output": {
       "addedWidgets": {},
       "arguments": {},
       "data": "data:image/png;base64,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",
       "datasetInfos": [],
       "metadata": {
        "imageDimensions": {
         "height": 248,
         "width": 378
        }
       },
       "removedWidgets": [],
       "type": "image"
      },
      "image/png": {
       "height": 248,
       "width": 378
      }
     },
     "output_type": "display_data"
    }
   ],
   "source": [
    "# score above 1 means it is more relevant to its chunk than other chunks in the document (relative relevance). This shows that most chunks are relatively relevant.\n",
    "scores = [x[\"score\"] for x in question_relevance]\n",
    "plt.hist(scores, bins=40);"
   ]
  },
  {
   "cell_type": "markdown",
   "metadata": {
    "application/vnd.databricks.v1+cell": {
     "cellMetadata": {},
     "inputWidgets": {},
     "nuid": "c91cb46d-e3c0-4478-9a67-14d380fcd40a",
     "showTitle": false,
     "title": ""
    }
   },
   "source": [
    "There are a couple scores that are less than 1, lets take a look at those."
   ]
  },
  {
   "cell_type": "code",
   "execution_count": null,
   "metadata": {
    "application/vnd.databricks.v1+cell": {
     "cellMetadata": {
      "byteLimit": 2048000,
      "rowLimit": 10000
     },
     "inputWidgets": {},
     "nuid": "410503c4-49a8-44d0-88ea-2f2075534a36",
     "showTitle": false,
     "title": ""
    }
   },
   "outputs": [
    {
     "data": {
      "text/html": [
       "<style scoped>\n",
       "  .ansiout {\n",
       "    display: block;\n",
       "    unicode-bidi: embed;\n",
       "    white-space: pre-wrap;\n",
       "    word-wrap: break-word;\n",
       "    word-break: break-all;\n",
       "    font-family: \"Menlo\", \"Monaco\", \"Consolas\", \"Ubuntu Mono\", \"Source Code Pro\", monospace;\n",
       "    font-size: 13px;\n",
       "    color: #555;\n",
       "    margin-left: 4px;\n",
       "    line-height: 19px;\n",
       "  }\n",
       "</style>\n",
       "<div class=\"ansiout\">Chunk: log_artifacts  if __name__ == &#34;__main__&#34;:     # Log a parameter (key-value pair)     log_param(&#34;config_value&#34;, randint(0, 100))      # Log a dictionary of parameters     log_params({&#34;param1&#34;: randint(0, 100), &#34;param2&#34;: randint(0, 100)})      # Log a metric; metrics can be updated throughout the run     log_metric(&#34;accuracy&#34;, random() / 2.0)     log_metric(&#34;accuracy&#34;, random() + 0.1)     log_metric(&#34;accuracy&#34;, random() + 0.2)      # Log an artifact (output file)     if not os.path.exists(&#34;outputs&#34;):         os.makedirs(&#34;outputs&#34;)     with open(&#34;outputs/test.txt&#34;, &#34;w&#34;) as f:         f.write(&#34;hello world!&#34;)     log_artifacts(&#34;outputs&#34;)    If you are using a library that supports autologging, but wish to disable it, you may do so by calling mlflow.autolog(disable=True).  For more details on automatic logging, see Automatic Logging. For more details on the explicit logging API, see Logging functions.    View MLflow runs and experiments  Once you’ve run your code, you may view the results with MLflow’s tracking UI. To start the UI, run:  mlflow ui    And then navigate to http://localhost:5000 in your browser. You will see a page similar to:  You are in the Default experiment, which now contains the tracking data for your run. An experiment is a collection of related runs. The MLflow UI opens to the Table view. The main portion of the window shows a table of runs, with each row representing a single run. The columns show the run name, how long ago it was created, its running time,\n",
       "Question: What are the different types of logging functions mentioned in the document?\n",
       "Score: 0.9934432170633938\n",
       "--------------------------------------------------------------------------------\n",
       "Chunk: log_artifacts  if __name__ == &#34;__main__&#34;:     # Log a parameter (key-value pair)     log_param(&#34;config_value&#34;, randint(0, 100))      # Log a dictionary of parameters     log_params({&#34;param1&#34;: randint(0, 100), &#34;param2&#34;: randint(0, 100)})      # Log a metric; metrics can be updated throughout the run     log_metric(&#34;accuracy&#34;, random() / 2.0)     log_metric(&#34;accuracy&#34;, random() + 0.1)     log_metric(&#34;accuracy&#34;, random() + 0.2)      # Log an artifact (output file)     if not os.path.exists(&#34;outputs&#34;):         os.makedirs(&#34;outputs&#34;)     with open(&#34;outputs/test.txt&#34;, &#34;w&#34;) as f:         f.write(&#34;hello world!&#34;)     log_artifacts(&#34;outputs&#34;)    If you are using a library that supports autologging, but wish to disable it, you may do so by calling mlflow.autolog(disable=True).  For more details on automatic logging, see Automatic Logging. For more details on the explicit logging API, see Logging functions.    View MLflow runs and experiments  Once you’ve run your code, you may view the results with MLflow’s tracking UI. To start the UI, run:  mlflow ui    And then navigate to http://localhost:5000 in your browser. You will see a page similar to:  You are in the Default experiment, which now contains the tracking data for your run. An experiment is a collection of related runs. The MLflow UI opens to the Table view. The main portion of the window shows a table of runs, with each row representing a single run. The columns show the run name, how long ago it was created, its running time,\n",
       "Question: How can you disable autologging in a library that supports it?\n",
       "Score: 0.9771305469184358\n",
       "--------------------------------------------------------------------------------\n",
       "Chunk: print(predictions)    Note that while log_model saves environment-specifying files such as conda.yaml and requirements.txt, load_model does not automatically recreate that environment. To do so, you need to use your preferred method (conda, virtualenv, pip, etc.), using the artifacts saved by log_model. If you serve your model with mlflow models serve, MLflow will automatically recreate the environment. Those commands also accept an --env-manager option for even more control. (This is described in detail in Environment Management Tools. In the case of mlflow.pyfunc.spark_udf(), you can use the --env-manager flag to recreate the environment during Spark batch inference.) To learn more about loading models for specific runs, see Save and serve models.   Next steps   Quickstart: Compare runs, choose a model, and deploy it to a REST API MLflow tutorials and examples Use the MLflow Registry to store and share versioned models, see MLflow Model Registry Use MLflow Projects for packaging your code in a reproducible and reusable way, see MLflow Projects Use MLflow Recipes to create workflows for faster iterations and easier deployment, see MLflow Recipes MLflow concepts Java API R API         Previous Next                © MLflow Project, a Series of LF Projects, LLC. All rights reserved.\n",
       "Question: What are some next steps after reviewing the provided information in the document?\n",
       "Score: 0.9252835554379636\n",
       "--------------------------------------------------------------------------------\n",
       "Chunk: Documentation  Quickstart: Compare runs, choose a model, and deploy it to a REST API       Quickstart: Compare runs, choose a model, and deploy it to a REST API  In this quickstart, you will:  Run a hyperparameter sweep on a training script Compare the results of the runs in the MLflow UI Choose the best run and register it as a model Deploy the model to a REST API Build a container image suitable for deployment to a cloud platform  As an ML Engineer or MLOps professional, you can use MLflow to compare, share, and deploy the best models produced by the team. In this quickstart, you will use the MLflow Tracking UI to compare the results of a hyperparameter sweep, choose the best run, and register it as a model. Then, you will deploy the model to a REST API. Finally, you will create a Docker container image suitable for deployment to a cloud platform.   Set up   Install MLflow. See the MLflow Data Scientist quickstart for instructions Clone the MLflow git repo Run the tracking server: mlflow server    Run a hyperparameter sweep  Switch to the examples/hyperparam/ directory in the MLflow git repo. This example tries to optimize the RMSE metric of a Keras deep learning model on a wine quality dataset. It has two hyperparameters that it tries to optimize: learning-rate and momentum. This directory uses the MLflow Projects format and defines multiple entry points. You can review those by reading the MLProject file. The hyperopt entry point uses the Hyperopt library to run a\n",
       "Question: What is the purpose of creating a Docker container image in this quickstart?\n",
       "Score: 0.9833064300379587\n",
       "--------------------------------------------------------------------------------\n",
       "Chunk: represents a run and associates each hyperparameter evaluation run’s parameters to the evaluated error metric for the run.  The red graphs on this graph are runs that fared poorly. The lowest one is a baseline run with both lr and momentum set to 0.0. That baseline run has an RMSE of ~0.89. The other red lines show that high momentum can also lead to poor results with this problem and architecture. The graphs shading towards blue are runs that fared better. Hover your mouse over individual runs to see their details.   Register your best model  Choose the best run and register it as a model. In the Table view, choose the best run. In the Run Detail page, open the Artifacts section and select the Register Model button. In the Register Model dialog, enter a name for the model, such as wine-quality, and click Register. Now, your model is available for deployment. You can see it in the Models page of the MLflow UI. Open the page for the model you just registered. You can add a description for the model, add tags, and easily navigate back to the source run that generated this model. You can also transition the model to different stages. For example, you can transition the model to Staging to indicate that it is ready for testing. You can transition it to Production to indicate that it is ready for deployment. Transition the model to Staging by choosing the Stage dropdown:    Serve the model locally  MLflow allows you to easily serve models produced by any run or model version. You\n",
       "Question: How can high momentum affect the results of the problem and architecture being analyzed?\n",
       "Score: 0.993193186831948\n",
       "--------------------------------------------------------------------------------\n",
       "Chunk: one prediction of wine quality (on a scale of 3-8). The response is a JSON object with a predictions key that contains a list of predictions, one for each row of data. In this case, the response is: {&#34;predictions&#34;: [{&#34;0&#34;: 5.310967445373535}]}   The schema for input and output is available in the MLflow UI in the Artifacts | Model description. The schema is available because the train.py script used the mlflow.infer_signature method and passed the result to the mlflow.log_model method. Passing the signature to the log_model method is highly recommended, as it provides clear error messages if the input request is malformed.   Build a container image for your model  Most routes toward deployment will use a container to package your model, its dependencies, and relevant portions of the runtime environment. You can use MLflow to build a Docker image for your model. mlflow models build-docker --model-uri &#34;models:/wine-quality/1&#34; --name &#34;qs_mlops&#34;   This command builds a Docker image named qs_mlops that contains your model and its dependencies. The model-uri in this case specifies a version number (/1) rather than a lifecycle stage (/staging), but you can use whichever integrates best with your workflow. It will take several minutes to build the image. Once it completes, you can run the image to provide real-time inferencing locally, on-prem, on a bespoke Internet server, or cloud platform. You can run it locally with: docker run -p 5002:8080 qs_mlops   This Docker run command runs\n",
       "Question: Why is it recommended to pass the signature to the log_model method in the train.py script?\n",
       "Score: 0.9823021489741864\n",
       "--------------------------------------------------------------------------------\n",
       "Chunk: Artifacts  When you specify the location of an artifact in MLflow APIs, the syntax depends on whether you are invoking the Tracking, Models, or Projects API. For the Tracking API, you specify the artifact location using a (run ID, relative path) tuple. For the Models and Projects APIs, you specify the artifact location in the following ways:  /Users/me/path/to/local/model relative/path/to/local/model &lt;scheme&gt;/&lt;scheme-dependent-path&gt;. For example:  s3://my_bucket/path/to/model hdfs://&lt;host&gt;:&lt;port&gt;/&lt;path&gt; runs:/&lt;mlflow_run_id&gt;/run-relative/path/to/model models:/&lt;model_name&gt;/&lt;model_version&gt; models:/&lt;model_name&gt;/&lt;stage&gt; mlflow-artifacts:/path/to/model when running the tracking server in --serve-artifacts proxy mode.    For example: Tracking API mlflow.log_artifacts(&#34;&lt;mlflow_run_id&gt;&#34;, &#34;/path/to/artifact&#34;)   Models API mlflow.pytorch.log_model(     &#34;runs:/&lt;mlflow_run_id&gt;/run-relative/path/to/model&#34;, registered_model_name=&#34;mymodel&#34; )   mlflow.pytorch.load_model(&#34;models:/mymodel/1&#34;)     Scalability and Big Data  Data is the key to obtaining good results in machine learning, so MLflow is designed to scale to large data sets, large output files (for example, models), and large numbers of experiments. Specifically, MLflow supports scaling in four dimensions:  An individual MLflow run can execute on a distributed cluster, for example, using Apache Spark. You can launch runs on the distributed infrastructure of your choice and report results to a Tracking Server to compare them. MLflow\n",
       "Question: Can MLflow runs be executed on distributed clusters?\n",
       "Score: 0.9950455214678244\n",
       "--------------------------------------------------------------------------------\n",
       "Chunk: storage host:   Part 2a, b, and c:    The MLflow client uses RestStore to send a REST request to fetch the artifact store URI location from the Tracking Server The Tracking Server responds with an artifact store URI location (an S3 storage URI in this case) The MLflow client creates an instance of an S3ArtifactRepository, connects to the remote AWS host using the boto client libraries, and uploads the artifacts to the S3 bucket URI location    The FileStore, RestStore, and SQLAlchemyStore are concrete implementations of the abstract class AbstractStore, and the LocalArtifactRepository and S3ArtifactRepository are concrete implementations of the abstract class ArtifactRepository.   Scenario 5: MLflow Tracking Server enabled with proxied artifact storage access  MLflow’s Tracking Server supports utilizing the host as a proxy server for operations involving artifacts. Once configured with the appropriate access requirements, an administrator can start the tracking server to enable assumed-role operations involving the saving, loading, or listing of model artifacts, images, documents, and files. This eliminates the need to allow end users to have direct path access to a remote object store (e.g., s3, adls, gcs, hdfs) for artifact handling and eliminates the need for an end-user to provide access credentials to interact with an underlying object store.     Command to run the tracking server in this configuration  mlflow server \\   --backend-store-uri\n",
       "Question: What are the concrete implementations of the abstract class AbstractStore?\n",
       "Score: 0.9877475767144712\n",
       "--------------------------------------------------------------------------------\n",
       "</div>"
      ]
     },
     "metadata": {
      "application/vnd.databricks.v1+output": {
       "addedWidgets": {},
       "arguments": {},
       "data": "<div class=\"ansiout\">Chunk: log_artifacts  if __name__ == &#34;__main__&#34;:     # Log a parameter (key-value pair)     log_param(&#34;config_value&#34;, randint(0, 100))      # Log a dictionary of parameters     log_params({&#34;param1&#34;: randint(0, 100), &#34;param2&#34;: randint(0, 100)})      # Log a metric; metrics can be updated throughout the run     log_metric(&#34;accuracy&#34;, random() / 2.0)     log_metric(&#34;accuracy&#34;, random() + 0.1)     log_metric(&#34;accuracy&#34;, random() + 0.2)      # Log an artifact (output file)     if not os.path.exists(&#34;outputs&#34;):         os.makedirs(&#34;outputs&#34;)     with open(&#34;outputs/test.txt&#34;, &#34;w&#34;) as f:         f.write(&#34;hello world!&#34;)     log_artifacts(&#34;outputs&#34;)    If you are using a library that supports autologging, but wish to disable it, you may do so by calling mlflow.autolog(disable=True).  For more details on automatic logging, see Automatic Logging. For more details on the explicit logging API, see Logging functions.    View MLflow runs and experiments  Once you’ve run your code, you may view the results with MLflow’s tracking UI. To start the UI, run:  mlflow ui    And then navigate to http://localhost:5000 in your browser. You will see a page similar to:  You are in the Default experiment, which now contains the tracking data for your run. An experiment is a collection of related runs. The MLflow UI opens to the Table view. The main portion of the window shows a table of runs, with each row representing a single run. The columns show the run name, how long ago it was created, its running time,\nQuestion: What are the different types of logging functions mentioned in the document?\nScore: 0.9934432170633938\n--------------------------------------------------------------------------------\nChunk: log_artifacts  if __name__ == &#34;__main__&#34;:     # Log a parameter (key-value pair)     log_param(&#34;config_value&#34;, randint(0, 100))      # Log a dictionary of parameters     log_params({&#34;param1&#34;: randint(0, 100), &#34;param2&#34;: randint(0, 100)})      # Log a metric; metrics can be updated throughout the run     log_metric(&#34;accuracy&#34;, random() / 2.0)     log_metric(&#34;accuracy&#34;, random() + 0.1)     log_metric(&#34;accuracy&#34;, random() + 0.2)      # Log an artifact (output file)     if not os.path.exists(&#34;outputs&#34;):         os.makedirs(&#34;outputs&#34;)     with open(&#34;outputs/test.txt&#34;, &#34;w&#34;) as f:         f.write(&#34;hello world!&#34;)     log_artifacts(&#34;outputs&#34;)    If you are using a library that supports autologging, but wish to disable it, you may do so by calling mlflow.autolog(disable=True).  For more details on automatic logging, see Automatic Logging. For more details on the explicit logging API, see Logging functions.    View MLflow runs and experiments  Once you’ve run your code, you may view the results with MLflow’s tracking UI. To start the UI, run:  mlflow ui    And then navigate to http://localhost:5000 in your browser. You will see a page similar to:  You are in the Default experiment, which now contains the tracking data for your run. An experiment is a collection of related runs. The MLflow UI opens to the Table view. The main portion of the window shows a table of runs, with each row representing a single run. The columns show the run name, how long ago it was created, its running time,\nQuestion: How can you disable autologging in a library that supports it?\nScore: 0.9771305469184358\n--------------------------------------------------------------------------------\nChunk: print(predictions)    Note that while log_model saves environment-specifying files such as conda.yaml and requirements.txt, load_model does not automatically recreate that environment. To do so, you need to use your preferred method (conda, virtualenv, pip, etc.), using the artifacts saved by log_model. If you serve your model with mlflow models serve, MLflow will automatically recreate the environment. Those commands also accept an --env-manager option for even more control. (This is described in detail in Environment Management Tools. In the case of mlflow.pyfunc.spark_udf(), you can use the --env-manager flag to recreate the environment during Spark batch inference.) To learn more about loading models for specific runs, see Save and serve models.   Next steps   Quickstart: Compare runs, choose a model, and deploy it to a REST API MLflow tutorials and examples Use the MLflow Registry to store and share versioned models, see MLflow Model Registry Use MLflow Projects for packaging your code in a reproducible and reusable way, see MLflow Projects Use MLflow Recipes to create workflows for faster iterations and easier deployment, see MLflow Recipes MLflow concepts Java API R API         Previous Next                © MLflow Project, a Series of LF Projects, LLC. All rights reserved.\nQuestion: What are some next steps after reviewing the provided information in the document?\nScore: 0.9252835554379636\n--------------------------------------------------------------------------------\nChunk: Documentation  Quickstart: Compare runs, choose a model, and deploy it to a REST API       Quickstart: Compare runs, choose a model, and deploy it to a REST API  In this quickstart, you will:  Run a hyperparameter sweep on a training script Compare the results of the runs in the MLflow UI Choose the best run and register it as a model Deploy the model to a REST API Build a container image suitable for deployment to a cloud platform  As an ML Engineer or MLOps professional, you can use MLflow to compare, share, and deploy the best models produced by the team. In this quickstart, you will use the MLflow Tracking UI to compare the results of a hyperparameter sweep, choose the best run, and register it as a model. Then, you will deploy the model to a REST API. Finally, you will create a Docker container image suitable for deployment to a cloud platform.   Set up   Install MLflow. See the MLflow Data Scientist quickstart for instructions Clone the MLflow git repo Run the tracking server: mlflow server    Run a hyperparameter sweep  Switch to the examples/hyperparam/ directory in the MLflow git repo. This example tries to optimize the RMSE metric of a Keras deep learning model on a wine quality dataset. It has two hyperparameters that it tries to optimize: learning-rate and momentum. This directory uses the MLflow Projects format and defines multiple entry points. You can review those by reading the MLProject file. The hyperopt entry point uses the Hyperopt library to run a\nQuestion: What is the purpose of creating a Docker container image in this quickstart?\nScore: 0.9833064300379587\n--------------------------------------------------------------------------------\nChunk: represents a run and associates each hyperparameter evaluation run’s parameters to the evaluated error metric for the run.  The red graphs on this graph are runs that fared poorly. The lowest one is a baseline run with both lr and momentum set to 0.0. That baseline run has an RMSE of ~0.89. The other red lines show that high momentum can also lead to poor results with this problem and architecture. The graphs shading towards blue are runs that fared better. Hover your mouse over individual runs to see their details.   Register your best model  Choose the best run and register it as a model. In the Table view, choose the best run. In the Run Detail page, open the Artifacts section and select the Register Model button. In the Register Model dialog, enter a name for the model, such as wine-quality, and click Register. Now, your model is available for deployment. You can see it in the Models page of the MLflow UI. Open the page for the model you just registered. You can add a description for the model, add tags, and easily navigate back to the source run that generated this model. You can also transition the model to different stages. For example, you can transition the model to Staging to indicate that it is ready for testing. You can transition it to Production to indicate that it is ready for deployment. Transition the model to Staging by choosing the Stage dropdown:    Serve the model locally  MLflow allows you to easily serve models produced by any run or model version. You\nQuestion: How can high momentum affect the results of the problem and architecture being analyzed?\nScore: 0.993193186831948\n--------------------------------------------------------------------------------\nChunk: one prediction of wine quality (on a scale of 3-8). The response is a JSON object with a predictions key that contains a list of predictions, one for each row of data. In this case, the response is: {&#34;predictions&#34;: [{&#34;0&#34;: 5.310967445373535}]}   The schema for input and output is available in the MLflow UI in the Artifacts | Model description. The schema is available because the train.py script used the mlflow.infer_signature method and passed the result to the mlflow.log_model method. Passing the signature to the log_model method is highly recommended, as it provides clear error messages if the input request is malformed.   Build a container image for your model  Most routes toward deployment will use a container to package your model, its dependencies, and relevant portions of the runtime environment. You can use MLflow to build a Docker image for your model. mlflow models build-docker --model-uri &#34;models:/wine-quality/1&#34; --name &#34;qs_mlops&#34;   This command builds a Docker image named qs_mlops that contains your model and its dependencies. The model-uri in this case specifies a version number (/1) rather than a lifecycle stage (/staging), but you can use whichever integrates best with your workflow. It will take several minutes to build the image. Once it completes, you can run the image to provide real-time inferencing locally, on-prem, on a bespoke Internet server, or cloud platform. You can run it locally with: docker run -p 5002:8080 qs_mlops   This Docker run command runs\nQuestion: Why is it recommended to pass the signature to the log_model method in the train.py script?\nScore: 0.9823021489741864\n--------------------------------------------------------------------------------\nChunk: Artifacts  When you specify the location of an artifact in MLflow APIs, the syntax depends on whether you are invoking the Tracking, Models, or Projects API. For the Tracking API, you specify the artifact location using a (run ID, relative path) tuple. For the Models and Projects APIs, you specify the artifact location in the following ways:  /Users/me/path/to/local/model relative/path/to/local/model &lt;scheme&gt;/&lt;scheme-dependent-path&gt;. For example:  s3://my_bucket/path/to/model hdfs://&lt;host&gt;:&lt;port&gt;/&lt;path&gt; runs:/&lt;mlflow_run_id&gt;/run-relative/path/to/model models:/&lt;model_name&gt;/&lt;model_version&gt; models:/&lt;model_name&gt;/&lt;stage&gt; mlflow-artifacts:/path/to/model when running the tracking server in --serve-artifacts proxy mode.    For example: Tracking API mlflow.log_artifacts(&#34;&lt;mlflow_run_id&gt;&#34;, &#34;/path/to/artifact&#34;)   Models API mlflow.pytorch.log_model(     &#34;runs:/&lt;mlflow_run_id&gt;/run-relative/path/to/model&#34;, registered_model_name=&#34;mymodel&#34; )   mlflow.pytorch.load_model(&#34;models:/mymodel/1&#34;)     Scalability and Big Data  Data is the key to obtaining good results in machine learning, so MLflow is designed to scale to large data sets, large output files (for example, models), and large numbers of experiments. Specifically, MLflow supports scaling in four dimensions:  An individual MLflow run can execute on a distributed cluster, for example, using Apache Spark. You can launch runs on the distributed infrastructure of your choice and report results to a Tracking Server to compare them. MLflow\nQuestion: Can MLflow runs be executed on distributed clusters?\nScore: 0.9950455214678244\n--------------------------------------------------------------------------------\nChunk: storage host:   Part 2a, b, and c:    The MLflow client uses RestStore to send a REST request to fetch the artifact store URI location from the Tracking Server The Tracking Server responds with an artifact store URI location (an S3 storage URI in this case) The MLflow client creates an instance of an S3ArtifactRepository, connects to the remote AWS host using the boto client libraries, and uploads the artifacts to the S3 bucket URI location    The FileStore, RestStore, and SQLAlchemyStore are concrete implementations of the abstract class AbstractStore, and the LocalArtifactRepository and S3ArtifactRepository are concrete implementations of the abstract class ArtifactRepository.   Scenario 5: MLflow Tracking Server enabled with proxied artifact storage access  MLflow’s Tracking Server supports utilizing the host as a proxy server for operations involving artifacts. Once configured with the appropriate access requirements, an administrator can start the tracking server to enable assumed-role operations involving the saving, loading, or listing of model artifacts, images, documents, and files. This eliminates the need to allow end users to have direct path access to a remote object store (e.g., s3, adls, gcs, hdfs) for artifact handling and eliminates the need for an end-user to provide access credentials to interact with an underlying object store.     Command to run the tracking server in this configuration  mlflow server \\   --backend-store-uri\nQuestion: What are the concrete implementations of the abstract class AbstractStore?\nScore: 0.9877475767144712\n--------------------------------------------------------------------------------\n</div>",
       "datasetInfos": [],
       "metadata": {},
       "removedWidgets": [],
       "type": "html"
      }
     },
     "output_type": "display_data"
    }
   ],
   "source": [
    "for question_evaluation in [x for x in question_relevance if x[\"score\"] < 1]:\n",
    "    print(\"Chunk:\", question_evaluation[\"chunk\"])\n",
    "    print(\"Question:\", question_evaluation[\"question\"])\n",
    "    print(\"Score:\", question_evaluation[\"score\"])\n",
    "    print(\"-\" * 80)  # delimiter"
   ]
  },
  {
   "cell_type": "markdown",
   "metadata": {
    "application/vnd.databricks.v1+cell": {
     "cellMetadata": {},
     "inputWidgets": {},
     "nuid": "e5c39126-3768-4961-bdcd-b20eb45ef7bf",
     "showTitle": false,
     "title": ""
    }
   },
   "source": [
    "Manual verification of these \"irrelevant\" questions demonstrate that they do refer to the chunk but are vague or doesn't align with the main focus. Hence, we can choose to filter these as desired."
   ]
  }
 ],
 "metadata": {
  "application/vnd.databricks.v1+notebook": {
   "dashboards": [],
   "language": "python",
   "notebookMetadata": {
    "pythonIndentUnit": 2
   },
   "notebookName": "Question Generation From Documents",
   "widgets": {}
  },
  "language_info": {
   "name": "python"
  }
 },
 "nbformat": 4,
 "nbformat_minor": 0
}
